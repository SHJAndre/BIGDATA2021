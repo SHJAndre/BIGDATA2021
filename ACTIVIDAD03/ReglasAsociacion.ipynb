{
 "cells": [
  {
   "cell_type": "markdown",
   "metadata": {},
   "source": [
    "# Actividad 03 Reglas de Asociación\n",
    "\n",
    "Autor     : Jorge Andre Salcedo Hurtado\n",
    "\n",
    "Proposito : Reglas de Asociación\n",
    "\n",
    "Problema  : \n",
    "\n",
    "* Implementar el algoritmo Apriori\n",
    "* Aplicar el algoritmo y obtener reglas de asociación\n",
    "* Explicar las reglas obtenidas\n"
   ]
  },
  {
   "cell_type": "markdown",
   "metadata": {},
   "source": [
    "# Librerias Utilizadas"
   ]
  },
  {
   "cell_type": "code",
   "execution_count": 2,
   "metadata": {},
   "outputs": [],
   "source": [
    "import pandas as pd\n",
    "import numpy as np\n",
    "import itertools\n",
    "#libreria utilizada para paralelizar procesos utilizando los nucleos del procesador\n",
    "from multiprocessing.pool import ThreadPool \n",
    "import os"
   ]
  },
  {
   "cell_type": "markdown",
   "metadata": {},
   "source": [
    "# Leemos los datos\n"
   ]
  },
  {
   "cell_type": "code",
   "execution_count": 179,
   "metadata": {},
   "outputs": [],
   "source": [
    "#Utilizamos la funcion np.load para leer el dataset brindado, convirtiendolo a una lista\n",
    "playlists = np.load('../DATASETS/spotify.npy', allow_pickle=True).tolist()\n",
    "#Extraemos las playlist de nuestro dataSet con el metodo values()\n",
    "playlists = playlists.values()"
   ]
  },
  {
   "cell_type": "markdown",
   "metadata": {},
   "source": [
    "# 1. Funciones(Implementar el algoritmo Apriori)"
   ]
  },
  {
   "cell_type": "markdown",
   "metadata": {},
   "source": [
    "## 1.1 Funcion para obetener el soporte de un itemset"
   ]
  },
  {
   "cell_type": "code",
   "execution_count": 180,
   "metadata": {},
   "outputs": [],
   "source": [
    "def getSupport(itemset):\n",
    "    \"\"\"Funcion para obtener el soporte del itemset brindado\"\"\"\n",
    "    #Inicializamos nuestro soporte en 0\n",
    "    support = 0\n",
    "    #Recorremos cada playlist en busca de nuestro itemset\n",
    "    for sample in playlists:\n",
    "        #Obtenemos una interseccion entre el itemset y el playlist analizado\n",
    "        intersection = [elem for elem in itemset if elem in sample]\n",
    "        #En caso sean iguales, aniadimos una aparicion en el contador\n",
    "        if(len(intersection) == len(itemset)):\n",
    "            support +=1\n",
    "    return itemset,support"
   ]
  },
  {
   "cell_type": "markdown",
   "metadata": {},
   "source": [
    "## 1.2 Funcion para obtener conjuntos de elementos frecuentes"
   ]
  },
  {
   "cell_type": "code",
   "execution_count": 223,
   "metadata": {},
   "outputs": [],
   "source": [
    "def get_frequent_itemsets(playlists, min_support):\n",
    "    \"\"\"Recibe la esctructura dedatos que contiene a las playlists y \n",
    "    retorna una estructura con los itemsets frecuentes, bajo un \n",
    "    umbral mínimo de confianza.\"\"\"\n",
    "    # ------------------------------------ PARA 1-ITEMSETS ------------------------------------\n",
    "    #inicializamos nuestro conjunto de canciones vacio\n",
    "    songs = []\n",
    "    # recorremos todas las playlists\n",
    "    for sample in playlists:\n",
    "        # añadimos todas las canciones en la playlist actual a nuestro total de canciones\n",
    "        songs+=list(set(sample))\n",
    "    # usando la funcion pd.value_counts(), le pasamos nuestra lista de canciones y nos devuelve una tabla de frecuencias \n",
    "    df = pd.value_counts(songs).to_frame().reset_index()\n",
    "    # aniadimos los nombres a las columnas\n",
    "    df.columns = ['Col_value','Count']\n",
    "    # dividimos los valores de todos los soportes entre el total de playlists\n",
    "    df.Count/=len(playlists)\n",
    "    # seleccionamos solo aquellas canciones cuyo support sea mayor a nuestro min_support\n",
    "    df1 = df[df.Count>=min_support]\n",
    "    # exportamos \n",
    "    df1.to_csv('1_itemset.csv')\n",
    "\n",
    "    # ------------------------------------ PARA 2-ITEMSETS ------------------------------------\n",
    "    # recuperamos todos nuestros 1-itemsets que superan el umbral\n",
    "    itemsets_1 = df1.Col_value.tolist()\n",
    "    # ordenamos nuestra lista\n",
    "    itemsets_1.sort()\n",
    "    # declaramos un arreglo donde irán todos nuestros posibles 2-itemsets\n",
    "    itemsets_2 = []\n",
    "    # realizamos una combinacion de todos los 1-itemsets de 2 en 2\n",
    "    itemsets_2.extend(list(itertools.combinations(itemsets_1,r=2)))\n",
    "    # creamos nuestro objeto ThreadPool pasandole como parametro la cantidad de nucleos de nuestro computador\n",
    "    pool = ThreadPool(os.cpu_count())\n",
    "    # mapeamos el proceso requerido a los nucleos, pasandole la funcion de obtener soporte y nuestra lista iterable de 2-itemsets\n",
    "    itemsets_22 = pool.map(getSupport,itemsets_2)\n",
    "    # creamos una tabla auxiliar para almacenar todos los 2-itemsets con sus soportes obtenidos\n",
    "    dfaux = pd.DataFrame(itemsets_22, columns=['Col_value','Count'])\n",
    "    # dividimos los soportes entre el total de playlists del a BD\n",
    "    dfaux.Count/=len(playlists)\n",
    "    # elegimos solo aquellos 2-itemsets que pasan el umbral\n",
    "    dfaux = dfaux[dfaux.Count>=min_support]\n",
    "\n",
    "    # ------------------------------------ PARA k-ITEMSETS ------------------------------------\n",
    "    # creamos un arreglo de dataframes que almacenara todos los dataframes de N-itemsets\n",
    "    df_itemsets = [df1,dfaux.reset_index(drop=True)]\n",
    "    # declaramos la variable que nos ayudara a recordar cual fue el numero de items anterior\n",
    "    k = 3\n",
    "    while True:\n",
    "        # recuperamos los valores de los k-itemsets anteriores como una lista\n",
    "        restItemSets = dfaux.Col_value.tolist()\n",
    "        # creamos un arreglo para almacenar el nuevo conjunto de k-itemsets\n",
    "        newItemSets = []\n",
    "        # declaramos un indice para recorrer los itemsets\n",
    "        index = 1\n",
    "        # recorremos el itemset para usarlo como primer elemento a comparar\n",
    "        for _setA in restItemSets:\n",
    "            # recorremos el itemset para usarlo como segundo elemento a comparar desde un indice siguiente al que empieza el anterior bucle\n",
    "            for _setB in restItemSets[index:]:\n",
    "                # si ambos itemsets se parecen en sus k-2 primeros items \n",
    "                if _setA[:k-2]==_setB[:k-2]:\n",
    "                    # en caso sean similares, aniadimos el nuevo itemset a nuestro arreglo\n",
    "                    newItemSets.append(list(set(_setA+_setB)))\n",
    "            # incrementamos nuestro indice para que no se repitan valores\n",
    "            index+=1\n",
    "        # en caso que nuestro arreglo de nuevos posibles k-itemsets este vacio, terminara el algoritmo\n",
    "        if(len(newItemSets)==0):\n",
    "            break\n",
    "        # en caso contrario, obtendremos los soportes de los nuevos k-itemsets\n",
    "        newItemSets = pool.map(getSupport,newItemSets)\n",
    "        # actualizamos nuestro dataFrame con los nuevos k-itemsets\n",
    "        dfaux = pd.DataFrame(newItemSets, columns=['Col_value','Count'])\n",
    "        # dividimos su valor de soporte obtenido entre el total de playlists de la BD\n",
    "        dfaux.Count/=len(playlists)\n",
    "        # filtramos solo aquellos k-itemsets que pasan el umbral\n",
    "        dfaux = dfaux[dfaux.Count>=min_support]\n",
    "        # en caso si exista alguno que pase el umbral\n",
    "        if (not dfaux.empty):\n",
    "            # aniadimos nuestro nuevo dataframe de k-itemsets a nuestro arreglo total\n",
    "            df_itemsets.append(dfaux.reset_index(drop=True))\n",
    "        # incrementamos k para continuar con el siguiente k-itemset\n",
    "        k+=1\n",
    "    # retornamos el arreglo de dataFrames que contiene nuestros k-itemsets\n",
    "    return df_itemsets"
   ]
  },
  {
   "cell_type": "markdown",
   "metadata": {},
   "source": [
    "## 1.3 Funcion para generar reglas de asociación "
   ]
  },
  {
   "cell_type": "code",
   "execution_count": 271,
   "metadata": {},
   "outputs": [],
   "source": [
    "def generate_association_rules(frequent_itemsets, confidence = 0, lift = 0):\n",
    "    \"\"\"Recibe los itemsets frecuentes generados por la función anterior y retorna las\n",
    "    reglas de asociación. Se le puede entregar umbrales de confianza o lift para las\n",
    "    reglas que se retornarán. Por ejemplo, si se llama esta función con los argumentos\n",
    "    confidence = 0.5 y lift = 1.2, se espera que se retornen aquellas reglas que\n",
    "    cumplan con una confianza ≥ 0.5 y un lift ≥ 1.2.\"\"\"\n",
    "    # declaramos un arreglo para almacenar las reglas obtenidas\n",
    "    association_rules = []\n",
    "    # recorremos cada dataFrame anteriormente obenido de k-itemsets, para >=2\n",
    "    for df in frequent_itemsets[1:]:\n",
    "        # recorremos cada itemset del dataframe actual\n",
    "        for itemset in df['Col_value']:\n",
    "            # recuperamos el soporte de nuestro itemset actual\n",
    "            general_support = getSupport(itemset)[1]\n",
    "            # creamos un arreglo vacio de antecedentes\n",
    "            antecedents=[]\n",
    "            # de forma iterativa, creamos todas las posibles combinaciones que se puede hacer\n",
    "            # con nuestro actual itemset, para luego utilizar esto como posibles antecedentes\n",
    "            for i in range(1,len(itemset)):\n",
    "                antecedents+= list(itertools.combinations(iterable=itemset,r=i))\n",
    "            # recorremos los antecedentes(x)\n",
    "            for X in antecedents:\n",
    "                # obtenemos el soporte de nuestro actual antecedente\n",
    "                antecedent_support = getSupport(X)[1]\n",
    "                # obtenemos y_x, hallando la diferencia del itemset y X\n",
    "                y_x = list(set(itemset).difference(set(X)))\n",
    "                # obtenemos la confiaza de nuestra regla actual\n",
    "                current_confidence = general_support/antecedent_support\n",
    "                # obtenemos el lift de nuestra regla actual\n",
    "                current_lift = current_confidence/(getSupport(y_x)[1]/len(playlists))\n",
    "                # si nuestra actual confianza y lift superan el umbral\n",
    "                if(current_confidence>=confidence and current_lift>=lift):\n",
    "                    # aniadimos la actual regla a nuestro arreglo\n",
    "                    association_rules.append([X,y_x,general_support,current_confidence,current_lift])\n",
    "    # devolvemos aquellas reglas que hayan superado el umbral\n",
    "    return association_rules"
   ]
  },
  {
   "cell_type": "markdown",
   "metadata": {},
   "source": [
    "# 2. Aplicar el algoritmo y obtener reglas de asociación"
   ]
  },
  {
   "cell_type": "markdown",
   "metadata": {},
   "source": [
    "## 2.1 Ejecucion del algoritmo para obtener los itemsets frecuentes\n",
    "Para este problema utilizamos como soporte minimo 1.5%, que al tener un dataset tan grande de 10000 muestras, nos indica que los itemsets deberian aparecer 150 veces o mas para ser considerados, siendo 150 un numero de apariciones considerable para encontrar algun patrón.\n"
   ]
  },
  {
   "cell_type": "code",
   "execution_count": 256,
   "metadata": {},
   "outputs": [],
   "source": [
    "# llamamos a nuestra funcion utilizando como soporte minimo 0.015\n",
    "frequent_itemsets = get_frequent_itemsets(playlists=playlists, min_support=0.015)"
   ]
  },
  {
   "cell_type": "markdown",
   "metadata": {},
   "source": [
    "### 2.1.1 1-itemsets"
   ]
  },
  {
   "cell_type": "code",
   "execution_count": 267,
   "metadata": {},
   "outputs": [
    {
     "data": {
      "text/html": [
       "<div>\n",
       "<style scoped>\n",
       "    .dataframe tbody tr th:only-of-type {\n",
       "        vertical-align: middle;\n",
       "    }\n",
       "\n",
       "    .dataframe tbody tr th {\n",
       "        vertical-align: top;\n",
       "    }\n",
       "\n",
       "    .dataframe thead th {\n",
       "        text-align: right;\n",
       "    }\n",
       "</style>\n",
       "<table border=\"1\" class=\"dataframe\">\n",
       "  <thead>\n",
       "    <tr style=\"text-align: right;\">\n",
       "      <th></th>\n",
       "      <th>Col_value</th>\n",
       "      <th>Count</th>\n",
       "    </tr>\n",
       "  </thead>\n",
       "  <tbody>\n",
       "    <tr>\n",
       "      <th>0</th>\n",
       "      <td>Closer</td>\n",
       "      <td>0.0723</td>\n",
       "    </tr>\n",
       "    <tr>\n",
       "      <th>1</th>\n",
       "      <td>HUMBLE.</td>\n",
       "      <td>0.0465</td>\n",
       "    </tr>\n",
       "    <tr>\n",
       "      <th>2</th>\n",
       "      <td>Home</td>\n",
       "      <td>0.0454</td>\n",
       "    </tr>\n",
       "    <tr>\n",
       "      <th>3</th>\n",
       "      <td>Roses</td>\n",
       "      <td>0.0424</td>\n",
       "    </tr>\n",
       "    <tr>\n",
       "      <th>4</th>\n",
       "      <td>Ride</td>\n",
       "      <td>0.0414</td>\n",
       "    </tr>\n",
       "    <tr>\n",
       "      <th>...</th>\n",
       "      <td>...</td>\n",
       "      <td>...</td>\n",
       "    </tr>\n",
       "    <tr>\n",
       "      <th>344</th>\n",
       "      <td>7/11</td>\n",
       "      <td>0.0150</td>\n",
       "    </tr>\n",
       "    <tr>\n",
       "      <th>345</th>\n",
       "      <td>The Ocean</td>\n",
       "      <td>0.0150</td>\n",
       "    </tr>\n",
       "    <tr>\n",
       "      <th>346</th>\n",
       "      <td>Come and See Me (feat. Drake)</td>\n",
       "      <td>0.0150</td>\n",
       "    </tr>\n",
       "    <tr>\n",
       "      <th>347</th>\n",
       "      <td>Ms. Jackson</td>\n",
       "      <td>0.0150</td>\n",
       "    </tr>\n",
       "    <tr>\n",
       "      <th>348</th>\n",
       "      <td>Electric Feel</td>\n",
       "      <td>0.0150</td>\n",
       "    </tr>\n",
       "  </tbody>\n",
       "</table>\n",
       "<p>349 rows × 2 columns</p>\n",
       "</div>"
      ],
      "text/plain": [
       "                         Col_value   Count\n",
       "0                           Closer  0.0723\n",
       "1                          HUMBLE.  0.0465\n",
       "2                             Home  0.0454\n",
       "3                            Roses  0.0424\n",
       "4                             Ride  0.0414\n",
       "..                             ...     ...\n",
       "344                           7/11  0.0150\n",
       "345                      The Ocean  0.0150\n",
       "346  Come and See Me (feat. Drake)  0.0150\n",
       "347                    Ms. Jackson  0.0150\n",
       "348                  Electric Feel  0.0150\n",
       "\n",
       "[349 rows x 2 columns]"
      ]
     },
     "metadata": {},
     "output_type": "display_data"
    }
   ],
   "source": [
    "display(frequent_itemsets[0])"
   ]
  },
  {
   "cell_type": "markdown",
   "metadata": {},
   "source": [
    "### 2.1.2 2-itemsets"
   ]
  },
  {
   "cell_type": "code",
   "execution_count": 268,
   "metadata": {},
   "outputs": [
    {
     "data": {
      "text/html": [
       "<div>\n",
       "<style scoped>\n",
       "    .dataframe tbody tr th:only-of-type {\n",
       "        vertical-align: middle;\n",
       "    }\n",
       "\n",
       "    .dataframe tbody tr th {\n",
       "        vertical-align: top;\n",
       "    }\n",
       "\n",
       "    .dataframe thead th {\n",
       "        text-align: right;\n",
       "    }\n",
       "</style>\n",
       "<table border=\"1\" class=\"dataframe\">\n",
       "  <thead>\n",
       "    <tr style=\"text-align: right;\">\n",
       "      <th></th>\n",
       "      <th>Col_value</th>\n",
       "      <th>Count</th>\n",
       "    </tr>\n",
       "  </thead>\n",
       "  <tbody>\n",
       "    <tr>\n",
       "      <th>0</th>\n",
       "      <td>(Bad and Boujee (feat. Lil Uzi Vert), Bounce B...</td>\n",
       "      <td>0.0169</td>\n",
       "    </tr>\n",
       "    <tr>\n",
       "      <th>1</th>\n",
       "      <td>(Bad and Boujee (feat. Lil Uzi Vert), Broccoli...</td>\n",
       "      <td>0.0155</td>\n",
       "    </tr>\n",
       "    <tr>\n",
       "      <th>2</th>\n",
       "      <td>(Bad and Boujee (feat. Lil Uzi Vert), Caroline)</td>\n",
       "      <td>0.0153</td>\n",
       "    </tr>\n",
       "    <tr>\n",
       "      <th>3</th>\n",
       "      <td>(Bad and Boujee (feat. Lil Uzi Vert), HUMBLE.)</td>\n",
       "      <td>0.0167</td>\n",
       "    </tr>\n",
       "    <tr>\n",
       "      <th>4</th>\n",
       "      <td>(Bad and Boujee (feat. Lil Uzi Vert), Mask Off)</td>\n",
       "      <td>0.0151</td>\n",
       "    </tr>\n",
       "    <tr>\n",
       "      <th>5</th>\n",
       "      <td>(Bad and Boujee (feat. Lil Uzi Vert), iSpy (fe...</td>\n",
       "      <td>0.0152</td>\n",
       "    </tr>\n",
       "    <tr>\n",
       "      <th>6</th>\n",
       "      <td>(Bounce Back, HUMBLE.)</td>\n",
       "      <td>0.0156</td>\n",
       "    </tr>\n",
       "    <tr>\n",
       "      <th>7</th>\n",
       "      <td>(Broccoli (feat. Lil Yachty), Caroline)</td>\n",
       "      <td>0.0172</td>\n",
       "    </tr>\n",
       "    <tr>\n",
       "      <th>8</th>\n",
       "      <td>(Broccoli (feat. Lil Yachty), No Problem (feat...</td>\n",
       "      <td>0.0158</td>\n",
       "    </tr>\n",
       "    <tr>\n",
       "      <th>9</th>\n",
       "      <td>(Closer, Let Me Love You)</td>\n",
       "      <td>0.0159</td>\n",
       "    </tr>\n",
       "    <tr>\n",
       "      <th>10</th>\n",
       "      <td>(Congratulations, HUMBLE.)</td>\n",
       "      <td>0.0214</td>\n",
       "    </tr>\n",
       "    <tr>\n",
       "      <th>11</th>\n",
       "      <td>(Congratulations, Mask Off)</td>\n",
       "      <td>0.0162</td>\n",
       "    </tr>\n",
       "    <tr>\n",
       "      <th>12</th>\n",
       "      <td>(Congratulations, XO TOUR Llif3)</td>\n",
       "      <td>0.0179</td>\n",
       "    </tr>\n",
       "    <tr>\n",
       "      <th>13</th>\n",
       "      <td>(Congratulations, goosebumps)</td>\n",
       "      <td>0.0155</td>\n",
       "    </tr>\n",
       "    <tr>\n",
       "      <th>14</th>\n",
       "      <td>(Congratulations, iSpy (feat. Lil Yachty))</td>\n",
       "      <td>0.0162</td>\n",
       "    </tr>\n",
       "    <tr>\n",
       "      <th>15</th>\n",
       "      <td>(DNA., HUMBLE.)</td>\n",
       "      <td>0.0190</td>\n",
       "    </tr>\n",
       "    <tr>\n",
       "      <th>16</th>\n",
       "      <td>(HUMBLE., Mask Off)</td>\n",
       "      <td>0.0204</td>\n",
       "    </tr>\n",
       "    <tr>\n",
       "      <th>17</th>\n",
       "      <td>(HUMBLE., XO TOUR Llif3)</td>\n",
       "      <td>0.0204</td>\n",
       "    </tr>\n",
       "    <tr>\n",
       "      <th>18</th>\n",
       "      <td>(HUMBLE., goosebumps)</td>\n",
       "      <td>0.0167</td>\n",
       "    </tr>\n",
       "    <tr>\n",
       "      <th>19</th>\n",
       "      <td>(HUMBLE., iSpy (feat. Lil Yachty))</td>\n",
       "      <td>0.0155</td>\n",
       "    </tr>\n",
       "    <tr>\n",
       "      <th>20</th>\n",
       "      <td>(Mask Off, XO TOUR Llif3)</td>\n",
       "      <td>0.0163</td>\n",
       "    </tr>\n",
       "    <tr>\n",
       "      <th>21</th>\n",
       "      <td>(XO TOUR Llif3, goosebumps)</td>\n",
       "      <td>0.0152</td>\n",
       "    </tr>\n",
       "  </tbody>\n",
       "</table>\n",
       "</div>"
      ],
      "text/plain": [
       "                                            Col_value   Count\n",
       "0   (Bad and Boujee (feat. Lil Uzi Vert), Bounce B...  0.0169\n",
       "1   (Bad and Boujee (feat. Lil Uzi Vert), Broccoli...  0.0155\n",
       "2     (Bad and Boujee (feat. Lil Uzi Vert), Caroline)  0.0153\n",
       "3      (Bad and Boujee (feat. Lil Uzi Vert), HUMBLE.)  0.0167\n",
       "4     (Bad and Boujee (feat. Lil Uzi Vert), Mask Off)  0.0151\n",
       "5   (Bad and Boujee (feat. Lil Uzi Vert), iSpy (fe...  0.0152\n",
       "6                              (Bounce Back, HUMBLE.)  0.0156\n",
       "7             (Broccoli (feat. Lil Yachty), Caroline)  0.0172\n",
       "8   (Broccoli (feat. Lil Yachty), No Problem (feat...  0.0158\n",
       "9                           (Closer, Let Me Love You)  0.0159\n",
       "10                         (Congratulations, HUMBLE.)  0.0214\n",
       "11                        (Congratulations, Mask Off)  0.0162\n",
       "12                   (Congratulations, XO TOUR Llif3)  0.0179\n",
       "13                      (Congratulations, goosebumps)  0.0155\n",
       "14         (Congratulations, iSpy (feat. Lil Yachty))  0.0162\n",
       "15                                    (DNA., HUMBLE.)  0.0190\n",
       "16                                (HUMBLE., Mask Off)  0.0204\n",
       "17                           (HUMBLE., XO TOUR Llif3)  0.0204\n",
       "18                              (HUMBLE., goosebumps)  0.0167\n",
       "19                 (HUMBLE., iSpy (feat. Lil Yachty))  0.0155\n",
       "20                          (Mask Off, XO TOUR Llif3)  0.0163\n",
       "21                        (XO TOUR Llif3, goosebumps)  0.0152"
      ]
     },
     "metadata": {},
     "output_type": "display_data"
    }
   ],
   "source": [
    "display(frequent_itemsets[1])"
   ]
  },
  {
   "cell_type": "markdown",
   "metadata": {},
   "source": [
    "## 2.2 Ejecucion del algoritmo para obtener las reglas de asociacion\n",
    "Para este ejemplo consideramos:\n",
    "* Una confianza del 50%, que indica que por lo menos nuestra regla deberia aparecer en la mitad del total de apariciones del antecedente. Es decir, del total de personas que escuchan un conjunto de X canciones, será una regla confiable si al menos la mitad de estas personas escuchan el conjunto de canciones Y-X.\n",
    "* Elegimos un valor de lift mayor a 1, lo cual nos indicará que ese conjunto aparece una cantidad de veces superior a lo esperado bajo condiciones de independencia (por lo que se puede intuir que existe una relación que hace que los productos se encuentren en el conjunto más veces de lo normal).\n"
   ]
  },
  {
   "cell_type": "code",
   "execution_count": 272,
   "metadata": {},
   "outputs": [],
   "source": [
    "# llamamos a nuestra funcion utilizando como confianza minima de 0.5 y lift 1.2\n",
    "association_rules = generate_association_rules(frequent_itemsets, 0.5, 1.2)"
   ]
  },
  {
   "cell_type": "markdown",
   "metadata": {},
   "source": [
    "### 2.2.1 Guardamos nuestras reglas en un dataframe y generamos su csv"
   ]
  },
  {
   "cell_type": "code",
   "execution_count": 273,
   "metadata": {},
   "outputs": [],
   "source": [
    "# convertimos a dataframe nuestras reglas obtenidas\n",
    "association_rulesdf = pd.DataFrame(association_rules, columns=['X','Y','Support','Confidence','Lift'])\n",
    "# guardamos como csv el resultado\n",
    "association_rulesdf.to_csv('ReglasAsociacion.csv')"
   ]
  },
  {
   "cell_type": "markdown",
   "metadata": {},
   "source": [
    "## 2.3 Mejores 10 reglas de asociación"
   ]
  },
  {
   "cell_type": "code",
   "execution_count": 279,
   "metadata": {},
   "outputs": [
    {
     "data": {
      "text/html": [
       "<div>\n",
       "<style scoped>\n",
       "    .dataframe tbody tr th:only-of-type {\n",
       "        vertical-align: middle;\n",
       "    }\n",
       "\n",
       "    .dataframe tbody tr th {\n",
       "        vertical-align: top;\n",
       "    }\n",
       "\n",
       "    .dataframe thead th {\n",
       "        text-align: right;\n",
       "    }\n",
       "</style>\n",
       "<table border=\"1\" class=\"dataframe\">\n",
       "  <thead>\n",
       "    <tr style=\"text-align: right;\">\n",
       "      <th></th>\n",
       "      <th>X</th>\n",
       "      <th>Y</th>\n",
       "      <th>Support</th>\n",
       "      <th>Confidence</th>\n",
       "      <th>Lift</th>\n",
       "    </tr>\n",
       "  </thead>\n",
       "  <tbody>\n",
       "    <tr>\n",
       "      <th>0</th>\n",
       "      <td>(DNA.,)</td>\n",
       "      <td>[HUMBLE.]</td>\n",
       "      <td>190</td>\n",
       "      <td>0.822511</td>\n",
       "      <td>17.688405</td>\n",
       "    </tr>\n",
       "    <tr>\n",
       "      <th>1</th>\n",
       "      <td>(Mask Off,)</td>\n",
       "      <td>[HUMBLE.]</td>\n",
       "      <td>204</td>\n",
       "      <td>0.645570</td>\n",
       "      <td>13.883218</td>\n",
       "    </tr>\n",
       "    <tr>\n",
       "      <th>2</th>\n",
       "      <td>(XO TOUR Llif3,)</td>\n",
       "      <td>[HUMBLE.]</td>\n",
       "      <td>204</td>\n",
       "      <td>0.631579</td>\n",
       "      <td>13.582343</td>\n",
       "    </tr>\n",
       "    <tr>\n",
       "      <th>3</th>\n",
       "      <td>(Bounce Back,)</td>\n",
       "      <td>[Bad and Boujee (feat. Lil Uzi Vert)]</td>\n",
       "      <td>169</td>\n",
       "      <td>0.569024</td>\n",
       "      <td>16.493437</td>\n",
       "    </tr>\n",
       "    <tr>\n",
       "      <th>4</th>\n",
       "      <td>(XO TOUR Llif3,)</td>\n",
       "      <td>[Congratulations]</td>\n",
       "      <td>179</td>\n",
       "      <td>0.554180</td>\n",
       "      <td>13.751354</td>\n",
       "    </tr>\n",
       "    <tr>\n",
       "      <th>5</th>\n",
       "      <td>(goosebumps,)</td>\n",
       "      <td>[HUMBLE.]</td>\n",
       "      <td>167</td>\n",
       "      <td>0.542208</td>\n",
       "      <td>11.660383</td>\n",
       "    </tr>\n",
       "    <tr>\n",
       "      <th>6</th>\n",
       "      <td>(Congratulations,)</td>\n",
       "      <td>[HUMBLE.]</td>\n",
       "      <td>214</td>\n",
       "      <td>0.531017</td>\n",
       "      <td>11.419728</td>\n",
       "    </tr>\n",
       "    <tr>\n",
       "      <th>7</th>\n",
       "      <td>(Bounce Back,)</td>\n",
       "      <td>[HUMBLE.]</td>\n",
       "      <td>156</td>\n",
       "      <td>0.525253</td>\n",
       "      <td>11.295753</td>\n",
       "    </tr>\n",
       "    <tr>\n",
       "      <th>8</th>\n",
       "      <td>(Mask Off,)</td>\n",
       "      <td>[XO TOUR Llif3]</td>\n",
       "      <td>163</td>\n",
       "      <td>0.515823</td>\n",
       "      <td>15.969746</td>\n",
       "    </tr>\n",
       "    <tr>\n",
       "      <th>9</th>\n",
       "      <td>(Mask Off,)</td>\n",
       "      <td>[Congratulations]</td>\n",
       "      <td>162</td>\n",
       "      <td>0.512658</td>\n",
       "      <td>12.721048</td>\n",
       "    </tr>\n",
       "  </tbody>\n",
       "</table>\n",
       "</div>"
      ],
      "text/plain": [
       "                    X                                      Y  Support  \\\n",
       "0             (DNA.,)                              [HUMBLE.]      190   \n",
       "1         (Mask Off,)                              [HUMBLE.]      204   \n",
       "2    (XO TOUR Llif3,)                              [HUMBLE.]      204   \n",
       "3      (Bounce Back,)  [Bad and Boujee (feat. Lil Uzi Vert)]      169   \n",
       "4    (XO TOUR Llif3,)                      [Congratulations]      179   \n",
       "5       (goosebumps,)                              [HUMBLE.]      167   \n",
       "6  (Congratulations,)                              [HUMBLE.]      214   \n",
       "7      (Bounce Back,)                              [HUMBLE.]      156   \n",
       "8         (Mask Off,)                        [XO TOUR Llif3]      163   \n",
       "9         (Mask Off,)                      [Congratulations]      162   \n",
       "\n",
       "   Confidence       Lift  \n",
       "0    0.822511  17.688405  \n",
       "1    0.645570  13.883218  \n",
       "2    0.631579  13.582343  \n",
       "3    0.569024  16.493437  \n",
       "4    0.554180  13.751354  \n",
       "5    0.542208  11.660383  \n",
       "6    0.531017  11.419728  \n",
       "7    0.525253  11.295753  \n",
       "8    0.515823  15.969746  \n",
       "9    0.512658  12.721048  "
      ]
     },
     "execution_count": 279,
     "metadata": {},
     "output_type": "execute_result"
    }
   ],
   "source": [
    "association_rulesdf = association_rulesdf.sort_values(by=['Confidence','Lift','Support'],ascending = False).reset_index(drop = True)\n",
    "association_rulesdf.head(10)"
   ]
  },
  {
   "cell_type": "markdown",
   "metadata": {},
   "source": [
    "# 3. Explicar las reglas obtenidas\n",
    "Deberás seleccionar 4 reglas y comentar su calidad de acuerdo a los diferentes indicadores disponibles (support, confidence y lift). Además, según el género y/o el artista de las canciones (que puedes buscar según el nombre de la canción) deberás darle una\n",
    "breve interpretación a las reglas."
   ]
  },
  {
   "cell_type": "markdown",
   "metadata": {},
   "source": [
    "## 3.1 {DNA} => {HUMBLE}\n",
    "Esta regla cuenta con:\n",
    "* El valor mas alto de CONFIDENCE entre las otras.\n",
    "* A su vez, supera por 40 apariciones nuestro valor de SUPPORT minimo que era de 150. \n",
    "* Y por ultimo tambien cuenta con el valor LIFT mas elevado, lo cual indica que esta regla no se debe al azar, sino que representa una regla real.\n",
    "\n",
    "Finalmente demostrando que es lo mas cercano que tenemos a una regla real entre todas"
   ]
  },
  {
   "cell_type": "code",
   "execution_count": 289,
   "metadata": {},
   "outputs": [
    {
     "data": {
      "text/html": [
       "<div>\n",
       "<style scoped>\n",
       "    .dataframe tbody tr th:only-of-type {\n",
       "        vertical-align: middle;\n",
       "    }\n",
       "\n",
       "    .dataframe tbody tr th {\n",
       "        vertical-align: top;\n",
       "    }\n",
       "\n",
       "    .dataframe thead th {\n",
       "        text-align: right;\n",
       "    }\n",
       "</style>\n",
       "<table border=\"1\" class=\"dataframe\">\n",
       "  <thead>\n",
       "    <tr style=\"text-align: right;\">\n",
       "      <th></th>\n",
       "      <th>X</th>\n",
       "      <th>Y</th>\n",
       "      <th>Support</th>\n",
       "      <th>Confidence</th>\n",
       "      <th>Lift</th>\n",
       "    </tr>\n",
       "  </thead>\n",
       "  <tbody>\n",
       "    <tr>\n",
       "      <th>0</th>\n",
       "      <td>(DNA.,)</td>\n",
       "      <td>[HUMBLE.]</td>\n",
       "      <td>190</td>\n",
       "      <td>0.822511</td>\n",
       "      <td>17.688405</td>\n",
       "    </tr>\n",
       "  </tbody>\n",
       "</table>\n",
       "</div>"
      ],
      "text/plain": [
       "         X          Y  Support  Confidence       Lift\n",
       "0  (DNA.,)  [HUMBLE.]      190    0.822511  17.688405"
      ]
     },
     "execution_count": 289,
     "metadata": {},
     "output_type": "execute_result"
    }
   ],
   "source": [
    "association_rulesdf[0:1]"
   ]
  },
  {
   "cell_type": "markdown",
   "metadata": {},
   "source": [
    "## 3.2 {Congratulations} => {HUMBLE}\n",
    "Esta regla nos muestra:\n",
    "* Un valor de soporte de 214, el valor mas elevado entre todos que indica una mayor aparicion.\n",
    "* Una confianza de 0.531017 un poco cercana a nuestro valor minimo, haciendo que pueda parecer una regla algo aleatoria.\n",
    "* Pero finalmente cuenta con un lift de 11.419728 que una vez mas nos indica que si estamos frente a un patron y no un suceso aleatorio.\n"
   ]
  },
  {
   "cell_type": "code",
   "execution_count": 288,
   "metadata": {},
   "outputs": [
    {
     "data": {
      "text/html": [
       "<div>\n",
       "<style scoped>\n",
       "    .dataframe tbody tr th:only-of-type {\n",
       "        vertical-align: middle;\n",
       "    }\n",
       "\n",
       "    .dataframe tbody tr th {\n",
       "        vertical-align: top;\n",
       "    }\n",
       "\n",
       "    .dataframe thead th {\n",
       "        text-align: right;\n",
       "    }\n",
       "</style>\n",
       "<table border=\"1\" class=\"dataframe\">\n",
       "  <thead>\n",
       "    <tr style=\"text-align: right;\">\n",
       "      <th></th>\n",
       "      <th>X</th>\n",
       "      <th>Y</th>\n",
       "      <th>Support</th>\n",
       "      <th>Confidence</th>\n",
       "      <th>Lift</th>\n",
       "    </tr>\n",
       "  </thead>\n",
       "  <tbody>\n",
       "    <tr>\n",
       "      <th>6</th>\n",
       "      <td>(Congratulations,)</td>\n",
       "      <td>[HUMBLE.]</td>\n",
       "      <td>214</td>\n",
       "      <td>0.531017</td>\n",
       "      <td>11.419728</td>\n",
       "    </tr>\n",
       "  </tbody>\n",
       "</table>\n",
       "</div>"
      ],
      "text/plain": [
       "                    X          Y  Support  Confidence       Lift\n",
       "6  (Congratulations,)  [HUMBLE.]      214    0.531017  11.419728"
      ]
     },
     "execution_count": 288,
     "metadata": {},
     "output_type": "execute_result"
    }
   ],
   "source": [
    "association_rulesdf[6:7]"
   ]
  },
  {
   "cell_type": "markdown",
   "metadata": {},
   "source": [
    "## 3.3 {XO TOUR Llif3} => {Mask Off}\n",
    "Esta regla presenta:\n",
    "* Un soporte de 163 muy cercano a nuestro minimo, indicando la menor cantidad de apariciones.\n",
    "* La confianza mas baja de nuestro conjunto (0.504644), llegando a aparecer la regla mas de la mitad de veces que su antecedente por casi nada.\n",
    "* Un lift muy alejado de 1\n",
    "\n",
    "Pero, por los dos primeros parametros y la tan baja confianza que muestra, podemos decir que puede ser un suceso aleatorio."
   ]
  },
  {
   "cell_type": "code",
   "execution_count": 290,
   "metadata": {},
   "outputs": [
    {
     "data": {
      "text/html": [
       "<div>\n",
       "<style scoped>\n",
       "    .dataframe tbody tr th:only-of-type {\n",
       "        vertical-align: middle;\n",
       "    }\n",
       "\n",
       "    .dataframe tbody tr th {\n",
       "        vertical-align: top;\n",
       "    }\n",
       "\n",
       "    .dataframe thead th {\n",
       "        text-align: right;\n",
       "    }\n",
       "</style>\n",
       "<table border=\"1\" class=\"dataframe\">\n",
       "  <thead>\n",
       "    <tr style=\"text-align: right;\">\n",
       "      <th></th>\n",
       "      <th>X</th>\n",
       "      <th>Y</th>\n",
       "      <th>Support</th>\n",
       "      <th>Confidence</th>\n",
       "      <th>Lift</th>\n",
       "    </tr>\n",
       "  </thead>\n",
       "  <tbody>\n",
       "    <tr>\n",
       "      <th>10</th>\n",
       "      <td>(XO TOUR Llif3,)</td>\n",
       "      <td>[Mask Off]</td>\n",
       "      <td>163</td>\n",
       "      <td>0.504644</td>\n",
       "      <td>15.969746</td>\n",
       "    </tr>\n",
       "  </tbody>\n",
       "</table>\n",
       "</div>"
      ],
      "text/plain": [
       "                   X           Y  Support  Confidence       Lift\n",
       "10  (XO TOUR Llif3,)  [Mask Off]      163    0.504644  15.969746"
      ]
     },
     "execution_count": 290,
     "metadata": {},
     "output_type": "execute_result"
    }
   ],
   "source": [
    "association_rulesdf[10:11]"
   ]
  },
  {
   "cell_type": "markdown",
   "metadata": {},
   "source": [
    "## 3.4 {Bounce Back} => {HUMBLE}\n",
    "Finalmente escogimos la regla que tiene:\n",
    "* El valor lift 11.29 mas bajo entre nuestras reglas\n",
    "* Una confianza cercana a nuestra confianza minima\n",
    "* Y un valor de soporte con tan solo 6 apariciones por encima del valor minimo.\n",
    "\n",
    "Por lo que llegamos a la conclusion de que esta regla es lo mas cercano a un hecho aleatorio y lo menos parecido a una regla entre todas."
   ]
  },
  {
   "cell_type": "code",
   "execution_count": 292,
   "metadata": {},
   "outputs": [
    {
     "data": {
      "text/html": [
       "<div>\n",
       "<style scoped>\n",
       "    .dataframe tbody tr th:only-of-type {\n",
       "        vertical-align: middle;\n",
       "    }\n",
       "\n",
       "    .dataframe tbody tr th {\n",
       "        vertical-align: top;\n",
       "    }\n",
       "\n",
       "    .dataframe thead th {\n",
       "        text-align: right;\n",
       "    }\n",
       "</style>\n",
       "<table border=\"1\" class=\"dataframe\">\n",
       "  <thead>\n",
       "    <tr style=\"text-align: right;\">\n",
       "      <th></th>\n",
       "      <th>X</th>\n",
       "      <th>Y</th>\n",
       "      <th>Support</th>\n",
       "      <th>Confidence</th>\n",
       "      <th>Lift</th>\n",
       "    </tr>\n",
       "  </thead>\n",
       "  <tbody>\n",
       "    <tr>\n",
       "      <th>7</th>\n",
       "      <td>(Bounce Back,)</td>\n",
       "      <td>[HUMBLE.]</td>\n",
       "      <td>156</td>\n",
       "      <td>0.525253</td>\n",
       "      <td>11.295753</td>\n",
       "    </tr>\n",
       "  </tbody>\n",
       "</table>\n",
       "</div>"
      ],
      "text/plain": [
       "                X          Y  Support  Confidence       Lift\n",
       "7  (Bounce Back,)  [HUMBLE.]      156    0.525253  11.295753"
      ]
     },
     "execution_count": 292,
     "metadata": {},
     "output_type": "execute_result"
    }
   ],
   "source": [
    "association_rulesdf[7:8]"
   ]
  },
  {
   "cell_type": "markdown",
   "metadata": {},
   "source": [
    "## 3.5 Apreciacion general\n",
    "En los playlists habia canciones de todo tipo de genero; pero, al tener en las reglas puras canciones RAP de artistas afroamericanos, se puede apreciar que estas si guardan una coherencia aceptable. Como en la primera regla considerada {DNA} => {HUMBLE}, donde ambas canciones del artista Kendrick Lamar nos indica que las personas que agregaron la primera cancion DNA tambien les gustó y aniadieron HUMBLE a sus playlists. Así como tambien se puede apreciar que esta última cancion HUMBLE es la consecuencia de 6 del total de 11 reglas encontradas."
   ]
  }
 ],
 "metadata": {
  "interpreter": {
   "hash": "ac59ebe37160ed0dfa835113d9b8498d9f09ceb179beaac4002f036b9467c963"
  },
  "kernelspec": {
   "display_name": "Python 3.9.7 64-bit",
   "language": "python",
   "name": "python3"
  },
  "language_info": {
   "codemirror_mode": {
    "name": "ipython",
    "version": 3
   },
   "file_extension": ".py",
   "mimetype": "text/x-python",
   "name": "python",
   "nbconvert_exporter": "python",
   "pygments_lexer": "ipython3",
   "version": "3.9.7"
  },
  "orig_nbformat": 4
 },
 "nbformat": 4,
 "nbformat_minor": 2
}
