{
 "cells": [
  {
   "cell_type": "markdown",
   "metadata": {},
   "source": [
    "![CMCC](https://scontent.fcuz1-1.fna.fbcdn.net/v/t1.6435-9/169999414_134997141968151_5389622841264143457_n.jpg?_nc_cat=100&ccb=1-5&_nc_sid=09cbfe&_nc_eui2=AeGYHrPMueJlavl7eDql2QOI2St2L7MLFHTZK3YvswsUdPzk3Ovp__UvRhUQlcFyH2o&_nc_ohc=KZJCq4jFuhMAX9h5HUI&_nc_ht=scontent.fcuz1-1.fna&oh=00_AT_sGFdClC9xMtR4S8p-ilZYOR4ycFv1uCTqoKj-frAi8g&oe=61F5FE4C)\n",
    "# **Algoritmos pre-procesamiento: PySpark**\n",
    "```\n",
    "NOMBRE: JORGE ANDRE SALCEDO HURTADO\n",
    "CURSO: MINERIA DE DATOS\n",
    "DOCENTE: CARLOS FERNANDO MONTOYA CUBAS\n",
    "```\n",
    "\n",
    "#### Implementar cinco algoritmos a su elección de las diapositivas de pre-procesamiento en un notebook Spark.\n"
   ]
  },
  {
   "cell_type": "markdown",
   "metadata": {},
   "source": [
    "# 1. Inicializamos nuestra variable de pyspark"
   ]
  },
  {
   "cell_type": "code",
   "execution_count": 1,
   "metadata": {},
   "outputs": [
    {
     "name": "stderr",
     "output_type": "stream",
     "text": [
      "22/01/09 11:47:16 WARN Utils: Your hostname, MR resolves to a loopback address: 127.0.1.1; using 192.168.1.20 instead (on interface enp9s0)\n",
      "22/01/09 11:47:16 WARN Utils: Set SPARK_LOCAL_IP if you need to bind to another address\n",
      "WARNING: An illegal reflective access operation has occurred\n",
      "WARNING: Illegal reflective access by org.apache.spark.unsafe.Platform (file:/home/andre/spark-3.2.0-bin-hadoop3.2/jars/spark-unsafe_2.12-3.2.0.jar) to constructor java.nio.DirectByteBuffer(long,int)\n",
      "WARNING: Please consider reporting this to the maintainers of org.apache.spark.unsafe.Platform\n",
      "WARNING: Use --illegal-access=warn to enable warnings of further illegal reflective access operations\n",
      "WARNING: All illegal access operations will be denied in a future release\n",
      "Using Spark's default log4j profile: org/apache/spark/log4j-defaults.properties\n",
      "Setting default log level to \"WARN\".\n",
      "To adjust logging level use sc.setLogLevel(newLevel). For SparkR, use setLogLevel(newLevel).\n",
      "22/01/09 11:47:16 WARN NativeCodeLoader: Unable to load native-hadoop library for your platform... using builtin-java classes where applicable\n"
     ]
    }
   ],
   "source": [
    "from pyspark import SparkContext\n",
    "sc =SparkContext()"
   ]
  },
  {
   "cell_type": "markdown",
   "metadata": {},
   "source": [
    "# 2. Implementación"
   ]
  },
  {
   "cell_type": "markdown",
   "metadata": {},
   "source": [
    "## 2.1. Similitud de cosenos \n",
    "## $$ D(x,y) = \\frac{x \\cdot y}{\\|x\\| \\cdot \\|y\\|} $$\n",
    "La similitud coseno es una medida de la similitud existente entre dos vectores en un espacio que posee un producto interior con el que se evalúa el valor del coseno del ángulo comprendido entre ellos. "
   ]
  },
  {
   "cell_type": "code",
   "execution_count": 2,
   "metadata": {},
   "outputs": [],
   "source": [
    "import numpy as np\n",
    "# vamos a generar una RDD que representan dos vectores numéricos en forma de tuplas.\n",
    "np.random.seed(28)\n",
    "vectores_tuplaRDD = sc.parallelize(np.random.random(size=(16,2)),2)"
   ]
  },
  {
   "cell_type": "code",
   "execution_count": 3,
   "metadata": {},
   "outputs": [
    {
     "data": {
      "text/plain": [
       "[array([0.72901374, 0.5612396 ]),\n",
       " array([0.12496709, 0.39759237]),\n",
       " array([0.78130821, 0.51099298]),\n",
       " array([0.18269336, 0.85351288]),\n",
       " array([0.95537189, 0.98421347]),\n",
       " array([0.19270097, 0.9707951 ]),\n",
       " array([0.23480835, 0.02635385]),\n",
       " array([0.94606034, 0.92172485]),\n",
       " array([0.29397577, 0.1662737 ]),\n",
       " array([0.39542284, 0.51066973]),\n",
       " array([0.30803723, 0.42956883]),\n",
       " array([0.83006941, 0.56239357]),\n",
       " array([0.83088831, 0.99692929]),\n",
       " array([0.33257881, 0.09100813]),\n",
       " array([0.77383156, 0.14938373]),\n",
       " array([0.72535506, 0.95514643])]"
      ]
     },
     "execution_count": 3,
     "metadata": {},
     "output_type": "execute_result"
    }
   ],
   "source": [
    "# mostramos los vectores\n",
    "vectores_tuplaRDD.collect()"
   ]
  },
  {
   "cell_type": "code",
   "execution_count": 4,
   "metadata": {},
   "outputs": [],
   "source": [
    "# hallamos el valor de la normal de nuestros vectores, \n",
    "# que es la suma de los valores elevados al cuadrado del vector.\n",
    "# Estos valores utilizaremos para el denominador de nuestra función\n",
    "valueNormVectorX = vectores_tuplaRDD.map(lambda tupla: np.power(tupla[0],2)).sum()\n",
    "valueNormVectorY = vectores_tuplaRDD.map(lambda tupla: np.power(tupla[1],2)).sum()\n",
    "# multiplicamos los valores\n",
    "multNormal = valueNormVectorX * valueNormVectorY"
   ]
  },
  {
   "cell_type": "code",
   "execution_count": 5,
   "metadata": {},
   "outputs": [],
   "source": [
    "# realizamos el PRODUCTO PUNTO de los vectores, utilizando nuestro vectores_tuplaRD,\n",
    "# que facilita el acceso para poder multiplicar los valores de cada vector encontrados en\n",
    "# la misma posicion, para luego sumarlos\n",
    "pPuntoXY = vectores_tuplaRDD.map(lambda tupla: tupla[0]*tupla[1]).sum()"
   ]
  },
  {
   "cell_type": "code",
   "execution_count": 6,
   "metadata": {},
   "outputs": [
    {
     "name": "stdout",
     "output_type": "stream",
     "text": [
      "0.1318127717148206\n"
     ]
    }
   ],
   "source": [
    "# Finalmente hallamos la similitud, dividiendo nuestro producto punto de los vectores, \n",
    "# y la multiplicacion de los valores normales de ambos vectores\n",
    "similitudCoseno = pPuntoXY/multNormal\n",
    "print(similitudCoseno)"
   ]
  },
  {
   "cell_type": "markdown",
   "metadata": {},
   "source": [
    "## 2.2. Estandarización\n",
    "## $$\\hat{X}_{i,j}=\\frac{X_{i,j}-\\bar{X}_j}{\\sigma_j}$$"
   ]
  },
  {
   "cell_type": "code",
   "execution_count": 7,
   "metadata": {},
   "outputs": [],
   "source": [
    "# vamos a generar una RDD de 4 particiones, que representará el vector que estandarizaremos\n",
    "np.random.seed(14)\n",
    "vectorRDD = sc.parallelize(np.random.random(size=(20)),4)"
   ]
  },
  {
   "cell_type": "code",
   "execution_count": 8,
   "metadata": {},
   "outputs": [
    {
     "data": {
      "text/plain": [
       "[0.5139433437726902,\n",
       " 0.7731650520792968,\n",
       " 0.8704276857248127,\n",
       " 0.00804694852981791,\n",
       " 0.3097359255052041,\n",
       " 0.9576037393658909,\n",
       " 0.5131167122678871,\n",
       " 0.3182844248720986,\n",
       " 0.5391999374256481,\n",
       " 0.2212549424277599,\n",
       " 0.80648135792427,\n",
       " 0.34225462561468434,\n",
       " 0.5388888490671446,\n",
       " 0.00587378555105833,\n",
       " 0.6731524781805254,\n",
       " 0.21002426217873815,\n",
       " 0.9325575928787119,\n",
       " 0.3742447494814921,\n",
       " 0.7524189220859464,\n",
       " 0.763139001845522]"
      ]
     },
     "execution_count": 8,
     "metadata": {},
     "output_type": "execute_result"
    }
   ],
   "source": [
    "# mostramos el vector\n",
    "vectorRDD.collect()"
   ]
  },
  {
   "cell_type": "code",
   "execution_count": 9,
   "metadata": {},
   "outputs": [
    {
     "name": "stdout",
     "output_type": "stream",
     "text": [
      "0.52119071683896\n"
     ]
    }
   ],
   "source": [
    "# Obtenemos la media del vector\n",
    "media = vectorRDD.mean()\n",
    "print(media)"
   ]
  },
  {
   "cell_type": "code",
   "execution_count": 10,
   "metadata": {},
   "outputs": [
    {
     "name": "stdout",
     "output_type": "stream",
     "text": [
      "0.08087649216270273\n"
     ]
    }
   ],
   "source": [
    "# Obtenemos la varianza del vector\n",
    "var = vectorRDD.map(lambda x: np.power((x - media),2)).mean()\n",
    "print(var)"
   ]
  },
  {
   "cell_type": "code",
   "execution_count": 11,
   "metadata": {},
   "outputs": [
    {
     "name": "stdout",
     "output_type": "stream",
     "text": [
      "0.28438792548682995\n"
     ]
    }
   ],
   "source": [
    "# Obtenemos la desviación estándar del arreglo\n",
    "desviacion = var ** 0.5\n",
    "print(desviacion)"
   ]
  },
  {
   "cell_type": "code",
   "execution_count": 12,
   "metadata": {},
   "outputs": [
    {
     "name": "stdout",
     "output_type": "stream",
     "text": [
      "[-0.025484109614932988, 0.8860233246857934, 1.2280302276828763, -1.8043795897125945, -0.7435434924734468, 1.5345694504429348, -0.028390813559511646, -0.7134842016218371, 0.06332624901658171, -1.0546712695264913, 1.0031742402457302, -0.629197216857796, 0.06223236165138881, -1.812021134180558, 0.5343467416256487, -1.094161976559135, 1.4464990921662824, -0.5167095864070818, 0.8130732162807475, 0.850768486715399]\n"
     ]
    }
   ],
   "source": [
    "# Finalmente estandarizamos los valores, utilizando la funcion de estandarizacion como funcion anonima lambda\n",
    "vectorStandarizadoRDD = vectorRDD.map(lambda x: (x-media)/desviacion)\n",
    "# Mostramos el arreglo con un escalonamiento de sus valores\n",
    "print(vectorStandarizadoRDD.collect())"
   ]
  },
  {
   "cell_type": "markdown",
   "metadata": {},
   "source": [
    "## 2.3. Escalonamiento\n",
    "Los algoritmos basados en métodos de gradiente tienden a beneficiarse cuando los atributos están entre [0, 1].\n",
    "## $$\\hat{X}_{i,j}=\\frac{X_{i,j}-maxX_j}{maxX_j-minX_j} $$\n"
   ]
  },
  {
   "cell_type": "code",
   "execution_count": 13,
   "metadata": {},
   "outputs": [],
   "source": [
    "def Escalonamiento(RDDnumeros):\n",
    "    \"\"\"Devuelve los valores de un vector escalonados.\n",
    "\n",
    "    Args:\n",
    "        RDDnumeros (list of double): Una lista de números.\n",
    "\n",
    "    Returns:\n",
    "        list if (double): Valores de la lista escalonados.\n",
    "    \"\"\"\n",
    "    maxNum = max(RDDnumeros.collect())\n",
    "    minNum = min(RDDnumeros.collect())\n",
    "    return(RDDnumeros\n",
    "            .map(lambda x: ((x-minNum)/(maxNum-minNum)))\n",
    "           )\n"
   ]
  },
  {
   "cell_type": "code",
   "execution_count": 14,
   "metadata": {},
   "outputs": [],
   "source": [
    "import numpy as np\n",
    "# vamos a generar una RDD de 4 particiones, que representará el vector que escalaremos\n",
    "np.random.seed(32)\n",
    "vectorRDD = sc.parallelize(np.random.random(size=(20)),4)"
   ]
  },
  {
   "cell_type": "code",
   "execution_count": 15,
   "metadata": {},
   "outputs": [
    {
     "data": {
      "text/plain": [
       "[0.8588892672930397,\n",
       " 0.37271115497527996,\n",
       " 0.5551287779985967,\n",
       " 0.9556565489917677,\n",
       " 0.7366695980112238,\n",
       " 0.8162051391124808,\n",
       " 0.10108656030862473,\n",
       " 0.928488070407937,\n",
       " 0.6091091689913093,\n",
       " 0.5965534361232749,\n",
       " 0.09178413479620207,\n",
       " 0.34518624330535763,\n",
       " 0.6627525231855876,\n",
       " 0.4417134884612358,\n",
       " 0.5514877863939606,\n",
       " 0.7037124914270836,\n",
       " 0.5894012313015157,\n",
       " 0.049932759415546646,\n",
       " 0.5617918399347968,\n",
       " 0.7663584723742113]"
      ]
     },
     "execution_count": 15,
     "metadata": {},
     "output_type": "execute_result"
    }
   ],
   "source": [
    "vectorRDD.collect()"
   ]
  },
  {
   "cell_type": "code",
   "execution_count": 16,
   "metadata": {},
   "outputs": [],
   "source": [
    "VectorEscalonado = Escalonamiento(vectorRDD).collect()"
   ]
  },
  {
   "cell_type": "code",
   "execution_count": 17,
   "metadata": {},
   "outputs": [
    {
     "name": "stdout",
     "output_type": "stream",
     "text": [
      "[0.8931602737916331, 0.3563761924711705, 0.5577815492948752, 1.0, 0.7582188372428579, 0.8460331819874857, 0.056478367336483926, 0.9700035718433072, 0.6173807246880372, 0.6035180736099319, 0.04620765829750067, 0.32598623033624535, 0.6766077813378106, 0.43256093475142066, 0.5537615692010104, 0.7218312464967205, 0.5956214003591325, 0.0, 0.5651381650897608, 0.7909980075646164]\n"
     ]
    }
   ],
   "source": [
    "print(VectorEscalonado)"
   ]
  },
  {
   "cell_type": "markdown",
   "metadata": {},
   "source": [
    "## 2.4 Normalizacion\n",
    "La normalización va a transformar las características de forma que todas compartan un mismo valor medio y una misma desviación media\n",
    "## $$\\hat{X}_{i,j}=\\frac{X_{i,j}}{||X_i||p}$$"
   ]
  },
  {
   "cell_type": "code",
   "execution_count": 18,
   "metadata": {},
   "outputs": [],
   "source": [
    "import numpy as np\n",
    "def Normalizacion(RDDnumeros):\n",
    "    \"\"\"Devuelve los valores de un vector normalizados.\n",
    "\n",
    "    Args:\n",
    "        RDDnumeros (list of double): Una lista de números.\n",
    "\n",
    "    Returns:\n",
    "        list if (double): Valores de la lista normalizados.\n",
    "    \"\"\"\n",
    "    nx = np.sqrt(RDDnumeros.map(lambda x: np.power(x,2)).sum())\n",
    "    return(RDDnumeros\n",
    "            .map(lambda x: x/nx)\n",
    "           )"
   ]
  },
  {
   "cell_type": "code",
   "execution_count": 19,
   "metadata": {},
   "outputs": [
    {
     "data": {
      "text/plain": [
       "[0.3790985254337701,\n",
       " 0.567098167179614,\n",
       " 0.5955925126571219,\n",
       " 0.4498588988554526,\n",
       " 0.45701982539471864,\n",
       " 0.3116509978753955,\n",
       " 0.3133373611975704,\n",
       " 0.29485946100158045,\n",
       " 0.5307724612356264,\n",
       " 0.3962220215994189,\n",
       " 0.7187503721849594,\n",
       " 0.5480919969498905,\n",
       " 0.582075082707141,\n",
       " 0.16765093779104812,\n",
       " 0.029277197597395443,\n",
       " 0.20874191791401042,\n",
       " 0.022575436577678576,\n",
       " 0.6346744421866868,\n",
       " 0.2244417391997393,\n",
       " 0.398309870301092]"
      ]
     },
     "execution_count": 19,
     "metadata": {},
     "output_type": "execute_result"
    }
   ],
   "source": [
    "# vamos a generar una RDD de 4 particiones, que representará el vector que normalizaremos\n",
    "np.random.seed(64)\n",
    "vectorRDD = sc.parallelize(np.random.random(size=(20)),4)\n",
    "vectorRDD.collect()"
   ]
  },
  {
   "cell_type": "code",
   "execution_count": 20,
   "metadata": {},
   "outputs": [],
   "source": [
    "VectorNormalizado = Normalizacion(vectorRDD).collect()"
   ]
  },
  {
   "cell_type": "code",
   "execution_count": 21,
   "metadata": {},
   "outputs": [
    {
     "name": "stdout",
     "output_type": "stream",
     "text": [
      "[0.19465413443970092, 0.2911855242601669, 0.30581639666729027, 0.23098716745603207, 0.23466405845868682, 0.16002213453426484, 0.1608880244568205, 0.1514002543189702, 0.27253351594558084, 0.20344646440429798, 0.369053747744842, 0.2814265055173552, 0.29887565844164793, 0.0860830259004051, 0.015032840211183372, 0.10718183961898169, 0.011591715007591359, 0.32588363157965583, 0.11524316119688756, 0.20451850334562652]\n"
     ]
    }
   ],
   "source": [
    "print(VectorNormalizado)"
   ]
  },
  {
   "cell_type": "markdown",
   "metadata": {},
   "source": [
    "## 2.5 Distancia de Minkowski\n",
    "Distancia entre dos vectores numéricos:\n",
    "$$D_p(x,y)=\\sqrt[p]{\\sum_{i=1}^{N} |x_i-y_i|^p}$$"
   ]
  },
  {
   "cell_type": "code",
   "execution_count": 22,
   "metadata": {},
   "outputs": [],
   "source": [
    "def minkowski(RDDnumeros, p):\n",
    "    \"\"\"Devuelve la distancia de Minkowski de dos vectores de numeros.\n",
    "\n",
    "    Args:\n",
    "        RDDnumeros (list of double): Una lista de dos vectores de numeros.\n",
    "        p (int): El poder a utilizar en el cálculo de la distancia de Minkowski\n",
    "        cuando p = 1, nos referimos a la distancia de Manhattan\n",
    "        cuando p = 2, nos referimos a la distancia Euclidiana\n",
    "\n",
    "    Returns:\n",
    "        numero (double): Distancia entre dos vectores numéricos.\n",
    "    \"\"\"\n",
    "    summation = RDDnumeros.map(lambda x: np.power(np.abs(x[0]-x[1]),2)).sum()\n",
    "    return(np.power(summation,1/p))\n"
   ]
  },
  {
   "cell_type": "code",
   "execution_count": 23,
   "metadata": {},
   "outputs": [
    {
     "data": {
      "text/plain": [
       "[array([0.77132064, 0.02075195]),\n",
       " array([0.63364823, 0.74880388]),\n",
       " array([0.49850701, 0.22479665]),\n",
       " array([0.19806286, 0.76053071]),\n",
       " array([0.16911084, 0.08833981]),\n",
       " array([0.68535982, 0.95339335]),\n",
       " array([0.00394827, 0.51219226]),\n",
       " array([0.81262096, 0.61252607]),\n",
       " array([0.72175532, 0.29187607]),\n",
       " array([0.91777412, 0.71457578]),\n",
       " array([0.54254437, 0.14217005]),\n",
       " array([0.37334076, 0.67413362]),\n",
       " array([0.44183317, 0.43401399]),\n",
       " array([0.61776698, 0.51313824]),\n",
       " array([0.65039718, 0.60103895]),\n",
       " array([0.8052232 , 0.52164715]),\n",
       " array([0.90864888, 0.31923609]),\n",
       " array([0.09045935, 0.30070006]),\n",
       " array([0.11398436, 0.82868133]),\n",
       " array([0.04689632, 0.62628715])]"
      ]
     },
     "execution_count": 23,
     "metadata": {},
     "output_type": "execute_result"
    }
   ],
   "source": [
    "# vamos a generar una RDD de 4 particiones, que representará los vectores a los cuales hallaremos su distancia\n",
    "np.random.seed(10)\n",
    "vectorRDD = sc.parallelize(np.random.random(size=(20,2)),4)\n",
    "vectorRDD.collect()"
   ]
  },
  {
   "cell_type": "code",
   "execution_count": 24,
   "metadata": {},
   "outputs": [],
   "source": [
    "VectorDistancia = minkowski(vectorRDD,3)"
   ]
  },
  {
   "cell_type": "code",
   "execution_count": 25,
   "metadata": {},
   "outputs": [
    {
     "name": "stdout",
     "output_type": "stream",
     "text": [
      "1.4664295719169498\n"
     ]
    }
   ],
   "source": [
    "print(VectorDistancia)"
   ]
  }
 ],
 "metadata": {
  "interpreter": {
   "hash": "31f2aee4e71d21fbe5cf8b01ff0e069b9275f58929596ceb00d14d90e3e16cd6"
  },
  "kernelspec": {
   "display_name": "Python 3.8.10 64-bit",
   "language": "python",
   "name": "python3"
  },
  "language_info": {
   "codemirror_mode": {
    "name": "ipython",
    "version": 3
   },
   "file_extension": ".py",
   "mimetype": "text/x-python",
   "name": "python",
   "nbconvert_exporter": "python",
   "pygments_lexer": "ipython3",
   "version": "3.8.10"
  },
  "orig_nbformat": 4
 },
 "nbformat": 4,
 "nbformat_minor": 2
}
