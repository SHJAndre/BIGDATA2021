{
  "cells": [
    {
      "cell_type": "markdown",
      "id": "68649b00",
      "metadata": {
        "id": "68649b00"
      },
      "source": [
        "# **ARBOLES DE DECISIÓN**\n",
        "---\n",
        "**Integrantes:**\n",
        "- Condori Lopez, Juan Carlos\n",
        "- Espejo Franco, Melissa Brigitte\n",
        "- Monzon Montalvo, Alexander Junior\n",
        "- Ramos Alvarez, Edgar\n",
        "- Rojas Soto, Claudia Luz\n",
        "- Salcedo Hurtado, Jorge Andre"
      ]
    },
    {
      "cell_type": "markdown",
      "id": "fa4d7508",
      "metadata": {
        "id": "fa4d7508"
      },
      "source": [
        "El árbol de decisiones es uno de los algoritmos más fáciles de visualizar e interpretar, lo que resulta útil cuando se presentan resultados a una audiencia no técnica, como suele ser necesario en la industria. Si simplemente consideramos un árbol en un estado similar a un diagrama de flujo, desde la raíz hasta las hojas, donde el camino a una hoja desde la raíz define las reglas de decisión sobre las características, entonces ya tenemos un buen nivel de intuición necesario para comprender el aprendizaje del árbol de decisión.\n",
        "\n",
        "## **1. Árboles de clasificación y regresión**\n",
        "---\n",
        "CART (Classification and Regression Trees) inicializa la raíz del árbol con el dataset de entranemiento completo (ver Figura). Luego busca dividir los datos del dataset con una pregunta. Los nodos siguientes reciben solamente los datos que corresponde a la respuesta. Se reitera este proceso hasta desenredar totalmente los datos (cada hoja del árbol debería tener idealmente un solo tipo de etiqueta).\n",
        "\n",
        "<center/>\n",
        "<img href=\"https://ibb.co/rfppRTg\"><img src=\"https://i.ibb.co/vvdd6gb/Diagrama-en-blanco-9.png\" alt=\"Diagrama-en-blanco-9\" border=\"0\" width=500px/>\n",
        "</center>\n",
        "\n",
        "En nuestro ejemplo, el nodo 1 está totalmente desenredado (Etiqueta: \"Uva\"). El nodo 2 tiene dos labeles, entonces preguntamos otra pregunta:\n",
        "\n",
        "<center/>\n",
        "<a href=\"https://ibb.co/jbHtRzH\"><img src=\"https://i.ibb.co/34kKzvk/Diagrama-en-blanco-P-gina-1-2.png\" alt=\"Diagrama-en-blanco-P-gina-1-2\" border=\"0\"  width=500px></a>\n",
        "</center>\n",
        "\n",
        "Para construir un árbol eficiente, el punto importante es identificar qué preguntas formular y cuándo. Por lo tanto, necesitamos cuantificar en qué medida una pregunta permite desenredar las etiquetas. Para hacer eso se utiliza 2 métricas:\n",
        "\n",
        "- El coeficiente de 'Gini impurity': mide que tan desenredados están los labeles de un nodo.\n",
        "- El coeficiente de 'Information Gain': mide cuánto una pregunta permite bajar el 'Gini impurity'.\n",
        "\n",
        "<center/>\n",
        "<a href=\"https://ibb.co/gZFQcYx\"><img src=\"https://i.ibb.co/TMqJNys/3.png\" alt=\"3\" border=\"0\" width=500px></a>\n",
        "</center>"
      ]
    },
    {
      "cell_type": "code",
      "source": [
        "!pip install pyspark"
      ],
      "metadata": {
        "colab": {
          "base_uri": "https://localhost:8080/"
        },
        "id": "kxYswvh_5RmZ",
        "outputId": "841a6511-329f-49f0-e0c6-462149172106"
      },
      "id": "kxYswvh_5RmZ",
      "execution_count": null,
      "outputs": [
        {
          "output_type": "stream",
          "name": "stdout",
          "text": [
            "Requirement already satisfied: pyspark in /usr/local/lib/python3.7/dist-packages (3.2.1)\n",
            "Requirement already satisfied: py4j==0.10.9.3 in /usr/local/lib/python3.7/dist-packages (from pyspark) (0.10.9.3)\n"
          ]
        }
      ]
    },
    {
      "cell_type": "code",
      "execution_count": null,
      "id": "e5185d55",
      "metadata": {
        "id": "e5185d55"
      },
      "outputs": [],
      "source": [
        "from pyspark import SparkContext\n",
        "sc =SparkContext()\n",
        "import os"
      ]
    },
    {
      "cell_type": "code",
      "execution_count": null,
      "id": "99d642de",
      "metadata": {
        "id": "99d642de"
      },
      "outputs": [],
      "source": [
        "# Librería utilizada para paralelizar procesos utilizando los nucleos del procesador\n",
        "from multiprocessing.pool import ThreadPool \n"
      ]
    },
    {
      "cell_type": "markdown",
      "id": "1f201699",
      "metadata": {
        "id": "1f201699"
      },
      "source": [
        "### **Valores únicos**\n",
        "---"
      ]
    },
    {
      "cell_type": "code",
      "execution_count": null,
      "id": "978d94d9",
      "metadata": {
        "id": "978d94d9"
      },
      "outputs": [],
      "source": [
        "def unique_vals(rows, col):\n",
        "    \"\"\"Encuentre los valores únicos para una columna en un conjunto de datos.\n",
        "    Args:\n",
        "        rows (list of lists): Dataset\n",
        "        col (int): Indica la columna con la que se está trabajando\n",
        "    Returns:\n",
        "        list: Valores únicos la columna evaluada\n",
        "    \"\"\"\n",
        "    # Creamos la rdd\n",
        "    sparkRow=sc.parallelize(rows,os.cpu_count())\n",
        "    # Mapeamos el rdd para la columna evaluada\n",
        "    sparkColumn=sparkRow.map(lambda x:x[col])\n",
        "    # Reducimos extrayendo los valores únicos de la columna\n",
        "    unique_vals=sparkColumn.map(lambda x:(x,1)).reduceByKey(lambda x,y:x+y).map(lambda x:x[0])\n",
        "    # Devolvemos nuestra lista de valores únicos\n",
        "    return sorted(unique_vals.collect())"
      ]
    },
    {
      "cell_type": "markdown",
      "id": "a7c5e584",
      "metadata": {
        "id": "a7c5e584"
      },
      "source": [
        "### **Contador de clases**\n",
        "---"
      ]
    },
    {
      "cell_type": "code",
      "execution_count": null,
      "id": "478d226d",
      "metadata": {
        "id": "478d226d"
      },
      "outputs": [],
      "source": [
        "import functools\n",
        "import itertools\n",
        "def class_counts(rows):\n",
        "    \"\"\"Cuenta el número de cada tipo de ejemplo en un conjunto de datos.\n",
        "    Args:\n",
        "        Rows(list of list): Dataset\n",
        "    Returns:\n",
        "        Dict(devuelve la labels de las clases y la cantidad de repeticiones en el dataset)\n",
        "    \"\"\"\n",
        "    #Mapeamos la columna final que contiene las clases del dataset\n",
        "    LastColumn=map(lambda x:x[-1],rows)\n",
        "    #Agregamos un valor de 1 a cada valor para la reduccion\n",
        "    Clases=map(lambda x:(x,1),LastColumn)\n",
        "    list_key=[]\n",
        "    list_values=[]\n",
        "    #Reducimos nuestros datos clase\n",
        "    for key, group in itertools.groupby(list(Clases), lambda x: x[0]):\n",
        "        list_key.append(key)#guardamos nuestra clase\n",
        "        list_values.append(sum(list(map(lambda x:x[1],list(group)))))#guardamos las repeticiones de las clases\n",
        "    dict_from_list = dict(zip(list_key,list_values))#Creamos nuestro diccionario\n",
        "    return dict_from_list"
      ]
    },
    {
      "cell_type": "markdown",
      "id": "070dbb24",
      "metadata": {
        "id": "070dbb24"
      },
      "source": [
        "### **Verificador númerico**\n",
        "---"
      ]
    },
    {
      "cell_type": "code",
      "execution_count": null,
      "id": "c4fd57ee",
      "metadata": {
        "id": "c4fd57ee"
      },
      "outputs": [],
      "source": [
        "def is_numeric(value):\n",
        "    \"\"\"Prueba si un valor es numérico.\n",
        "    Args:\n",
        "        value (any): Cualquier valor\n",
        "    Returns:\n",
        "        boolean: retorna True si es un valor numérico\n",
        "    \"\"\"\n",
        "    return isinstance(value, int) or isinstance(value, float)"
      ]
    },
    {
      "cell_type": "markdown",
      "id": "d83b4afc",
      "metadata": {
        "id": "d83b4afc"
      },
      "source": [
        "## **2. ¿Qué preguntas formular?**\n",
        "---\n",
        "\n",
        "Para saber qué preguntas formular, cada nodo itera sobre las características de los datos a su disposición y define una lista de preguntas posibles.\n",
        "<center/>\n",
        "<a href=\"https://ibb.co/VC4BSJs\"><img src=\"https://i.ibb.co/QHwmNp4/2.png\" alt=\"2\" border=\"0\" width=500px></a>\n",
        "</center>\n"
      ]
    },
    {
      "cell_type": "markdown",
      "id": "24bc5155",
      "metadata": {
        "id": "24bc5155"
      },
      "source": [
        "### **Clase Pregunta:**\n",
        "---\n",
        "Una pregunta se utiliza para particionar un conjunto de datos.Esta clase solo registra un 'número de columna' (por ejemplo,0 para Color) y un 'valor de columna' (por ejemplo, Verde). El método 'match' se utiliza para comparar el valor de característica en un ejemplo al valor de característica almacenado en la pregunta."
      ]
    },
    {
      "cell_type": "code",
      "execution_count": null,
      "id": "8db25842",
      "metadata": {
        "id": "8db25842"
      },
      "outputs": [],
      "source": [
        "class Question:\n",
        "    \"\"\"\n",
        "    Atributos:\n",
        "        column(int): indica el numero de columna\n",
        "        value(str):indica el valor de la columna\n",
        "    \"\"\"\n",
        "    def __init__(self, column, value):\n",
        "        self.column = column\n",
        "        self.value = value\n",
        "    \n",
        "    def match(self, example):\n",
        "        \"\"\"Compara el valor de característica en un ejemplo al valor de característica \n",
        "            almacenado en la pregunta.\n",
        "            Args:\n",
        "                example(list):una fila que contiene una muestra del dataset \n",
        "            Returns:\n",
        "                boolean(bool):indica si el valor es mayor o igual si es numerico\n",
        "                            o igual si es categorico\n",
        "        \"\"\"\n",
        "        # Compara el valor de la función en un ejemplo con el\n",
        "        # valor de característica en esta pregunta.\n",
        "        val = example[self.column]\n",
        "        if is_numeric(val):\n",
        "            return val >= self.value\n",
        "        else:\n",
        "            return val == self.value\n",
        "\n",
        "    def __repr__(self):\n",
        "        \"\"\"\n",
        "        Método auxiliar para imprimir la pregunta en un formato legible.\n",
        "            Returns(str): \">=\" en caso sea numerico\n",
        "                          \"sentencia\" en caso sea categorico\n",
        "        \"\"\"\n",
        "        condition = \"==\"\n",
        "        if is_numeric(self.value):\n",
        "            condition = \">=\"\n",
        "        return \"Es %s %s %s?\" % (\n",
        "            header[self.column], condition, str(self.value))"
      ]
    },
    {
      "cell_type": "markdown",
      "id": "40b00f43",
      "metadata": {
        "id": "40b00f43"
      },
      "source": [
        "## **3. Partición**\n",
        "---\n",
        "Una vez una pregunta elegida, se divide los datos en dos según la respuesta a la pregunta.\n",
        "\n",
        "<center/>\n",
        "<a href=\"https://ibb.co/9rcNBgP\"><img src=\"https://i.ibb.co/x7XDwLZ/1.png\" alt=\"1\" border=\"0\" width=500px></a>\n",
        "</center>"
      ]
    },
    {
      "cell_type": "markdown",
      "id": "6251550a",
      "metadata": {
        "id": "6251550a"
      },
      "source": [
        "### **Partición de los datos**\n",
        "---"
      ]
    },
    {
      "cell_type": "code",
      "execution_count": null,
      "id": "6eb18428",
      "metadata": {
        "id": "6eb18428"
      },
      "outputs": [],
      "source": [
        "def partition(rows, question):\n",
        "    \"\"\"Particiona un conjunto de datos.\n",
        "    Para cada fila del conjunto de datos, se comprueba si coincide \n",
        "    con la pregunta. Si entonces, se agrega a 'filas verdaderas',\n",
        "    de lo contrario, se agrega a 'filas falsas'.\n",
        "\n",
        "    Args:\n",
        "        rows (list of lists): Dataset\n",
        "        question (object): Validador\n",
        "    Returns:\n",
        "        list: Valores únicos la columna evaluada\n",
        "    \"\"\"\n",
        "    verdaderas = list(filter(lambda x: question.match(x) == True,rows))\n",
        "    falsas = list(filter(lambda x: question.match(x) == False,rows))\n",
        "    return verdaderas, falsas"
      ]
    },
    {
      "cell_type": "markdown",
      "id": "c11c162b",
      "metadata": {
        "id": "c11c162b"
      },
      "source": [
        "\n",
        "## **4. Coeficiente de Gini**\n",
        "---\n",
        "El coeficiente de Gini impurity representa la probabilidad de ser incorrecto si asigna aleatoriamente una etiqueta a un ejemplo del mismo conjunto. Por ejemplo, en los dos ejemplos siguientes: ¿Cuál es la probabilidad de equivocarse si asignamos una etiqueta del recipiente B a un dato del recipiente A?\n",
        "\n",
        "<center/>\n",
        "<a href=\"https://ibb.co/jr90mS0\"><img src=\"https://i.ibb.co/kSVbjtb/Diagrama-en-blanco-P-gina-1-3.png\" alt=\"Diagrama-en-blanco-P-gina-1-3\" border=\"0\" width=500px></a>\n",
        "</center>\n"
      ]
    },
    {
      "cell_type": "markdown",
      "id": "cf09d6a0",
      "metadata": {
        "id": "cf09d6a0"
      },
      "source": [
        "### **Impureza de Gini**\n",
        "---"
      ]
    },
    {
      "cell_type": "markdown",
      "id": "5c69a0ce",
      "metadata": {
        "id": "5c69a0ce"
      },
      "source": [
        "La impureza Gini es una medida que se utiliza para generar árboles de clasificación. Proporciona más información acerca de la distribución de los datos por nodo que la precisión de clasificación utilizada para informes de precisión del árbol.\n",
        "\n",
        "La impureza de un nodo del árbol de clasificación se calcula utilizando el recuento de cada categoría de destino entre todos los registros correspondientes para un nodo dado. El total de impureza Gini se calcula como una suma de cuadrados del recuento de proporciones entre todas las categorías de destino por nodo al que se resta uno y los resultados se multiplican por el número de registros.\n",
        "\n",
        "Por ejemplo, cuando se divide un nodo de árbol, el algoritmo busca un campo con la mejora más elevada del total de impureza calculada como el total de impureza entre todos los nodos hijo potenciales restados del total de impureza del nodo padre.\n",
        "\n",
        "Fuente: https://www.ibm.com/docs/es/cognos-analytics/11.1.0?topic=terms-gini-impurity-measure\n",
        "\n",
        "Para calcular la impureza de Gini de un conjunto de elementos, supongamos $i$ toma valores en $\\{ 1 , 2 , . . . , m \\}$, y sea $f_i$ la fracción de artículos etiquetados con valor $i$ en el conjunto.\n",
        "$$\n",
        "I_G(f)=\\sum_{i=1}^{m}f_i(1-f_i) = \\sum_{i=1}^{m}(f_i-f_i^2)=\\sum_{i=1}^{m}f_i-\\sum_{i=1}^{m}f_i^2=1-\\sum_{i=1}^{m}f_i^2\n",
        "$$"
      ]
    },
    {
      "cell_type": "markdown",
      "source": [
        "### Intuición del índice de Gini:\n",
        "Comencemos con Gini Index, ya que es un poco más fácil de entender. Según Wikipedia , el objetivo es \"medir la frecuencia con la que un elemento elegido al azar del conjunto sería etiquetado incorrectamente\".\n",
        "\n",
        "Para visualizar esto, volvamos a los ejemplos de Gumball. Si decidimos etiquetar arbitrariamente los 4 chicles como rojos, ¿con qué frecuencia se etiquetaría incorrectamente uno de los chicles?\n",
        "\n",
        "### 4 rojo y 0 azul:\n",
        "$$\n",
        "GiniIndex = 1-(probabilidadRojo^2+probabilidadAzul^2) = 1-(1^2+0^2) =0\n",
        "$$\n",
        "La medida de impureza es 0 porque nunca etiquetaríamos incorrectamente ninguno de los 4 chicles rojos aquí. Si elegimos arbitrariamente etiquetar todas las bolas como 'azules', entonces nuestro índice aún sería 0, porque siempre etiquetaríamos incorrectamente las bolas de chicle.\n",
        "\n",
        "El puntaje de gini es siempre el mismo sin importar qué clase arbitraria tome las probabilidades porque siempre se suman a 0 en la fórmula anterior.\n",
        "\n",
        "```\n",
        "Una puntuación gini de 0 es la puntuación más pura posible.\n",
        "```\n",
        "\n",
        "### 2 rojos y 2 azules:\n",
        "$$ GiniIndex = 1-(probabilidadRojo^2+probabilidadAzul^2)=1-(0.5^2+0.5^2)=0.5 $$\n",
        "\n",
        "La medida de impureza es 0.5 porque etiquetaríamos incorrectamente las bolas de chicle como la mitad del tiempo. Debido a que este índice se utiliza en variables de destino binarias (0,1), un índice de Gini de 0,5 es la puntuación menos pura posible. La mitad es un tipo y la mitad es el otro. **Dividir las puntuaciones de gini por 0,5 puede ayudar a comprender intuitivamente lo que representa la puntuación. 0.5 / 0.5 = 1, lo que significa que la agrupación es lo más impura posible (en un grupo con solo 2 resultados).**"
      ],
      "metadata": {
        "id": "-1ymy0Y7wUmr"
      },
      "id": "-1ymy0Y7wUmr"
    },
    {
      "cell_type": "code",
      "execution_count": null,
      "id": "b0df0403",
      "metadata": {
        "id": "b0df0403"
      },
      "outputs": [],
      "source": [
        "import numpy as np\n",
        "def gini(filas):\n",
        "    \"\"\"Calcula la impureza de Gini para una lista de filas.\n",
        "    Args:\n",
        "        filas (list of lists): Dataset.\n",
        "    Returns:\n",
        "        float: Valor de la impureza de Gini obtenido.\n",
        "\n",
        "    \"\"\"\n",
        "    cantidadXClase = class_counts(filas)\n",
        "    nroFilas = float(len(filas))\n",
        "    impurezaGini = 1\n",
        "    gini = map((lambda lbl: np.power(cantidadXClase[lbl]/nroFilas,2)),cantidadXClase)\n",
        "    res = sum(list(gini))\n",
        "    impurezaGini-=res\n",
        "    return impurezaGini"
      ]
    },
    {
      "cell_type": "markdown",
      "source": [
        "## **5. Information gain**\n",
        "---\n",
        "La métrica de Information Gain permite medir qué pregunta optimiza el coeficiente de Gini impurity.\n",
        "Por cada nodo, empezamos por medir el coeficiente de Gini impurity de las etiquetas disponibles. Luego, por cada pregunta calculamos el coeficiente de Gini impurity de los dos sub-conjuntos de datos obtenidos. \n",
        "\n",
        "Para un nodo S en el conjunto de datos con c clases objetivo, el índice Gini se define como:\n",
        "\n",
        "$$Gini(S) = 1-\\sum_{i=1}^c(p_i)^2$$\n",
        "Teniendo a  $p_i$ como la proporción de $S$ que pertenece a la clase $i$. El cálculo del índice de Gini de una división con el atributo $A$ se define como:\n",
        "$$\n",
        "Gini(A_{split}) = \\sum_{i=1}^c p_i Gini(F_i)\n",
        "$$\n",
        "Donde $p_i$ es la proporción de la clase $i$ después de la división. $F$ representa las características. El cálculo de la ganancia de información sobre el atributo $A$ después de la división se define como:\n",
        "$$\n",
        "Gain (S, A) = Gini(S) - Gini(A_{split})\n",
        "$$\n",
        "\n",
        "Fuente: Mohammad A. (2018) A Comprehensive Study of Decision Trees to Classify DNA Sequences. Universidad de Nuevo México.\n",
        "\n",
        "\n",
        "<center/>\n",
        "<a href=\"https://ibb.co/JrDt8yH\"><img src=\"https://i.ibb.co/QYyQhCM/Diagrama-en-blanco-P-gina-1-4.png\" alt=\"Diagrama-en-blanco-P-gina-1-4\" border=\"0\" width=500px></a>\n",
        "</center>\n",
        "\n",
        "<center/>\n",
        "<a href=\"https://ibb.co/JrDt8yH\"><img src=\"https://sitiobigdata.com/wp-content/uploads/2019/09/1569525641_392_Conceptos-b%C3%A1sicos-de-aprendizaje-autom%C3%A1tico-%C3%81rbol-de-decisi%C3%B3n-desde-cero-Parte-I.png\" alt=\"Diagrama-en-blanco-P-gina-1-4\" border=\"0\" width=500px></a>\n",
        "</center>\n",
        "\n",
        "<center/>\n",
        "<a href=\"https://ibb.co/JrDt8yH\"><img src=\"https://sitiobigdata.com/wp-content/uploads/2019/09/1569525641_183_Conceptos-b%C3%A1sicos-de-aprendizaje-autom%C3%A1tico-%C3%81rbol-de-decisi%C3%B3n-desde-cero-Parte-I.png\" alt=\"Diagrama-en-blanco-P-gina-1-4\" border=\"0\" width=500px></a>\n",
        "</center>\n",
        "\n"
      ],
      "metadata": {
        "id": "o9NlExibQCl0"
      },
      "id": "o9NlExibQCl0"
    },
    {
      "cell_type": "code",
      "execution_count": null,
      "id": "83053649",
      "metadata": {
        "id": "83053649"
      },
      "outputs": [],
      "source": [
        "def info_gain(left, right, current_uncertainty):\n",
        "    \"\"\"Ganancia de información.\n",
        "     La incertidumbre del nodo inicial, menos la impureza ponderada de\n",
        "     dos nodos secundarios.\n",
        "    \"\"\"\n",
        "    p = float(len(left)) / (len(left) + len(right))\n",
        "    return current_uncertainty - p * gini(left) - (1 - p) * gini(right)"
      ]
    },
    {
      "cell_type": "markdown",
      "id": "365ad4f8",
      "metadata": {
        "id": "365ad4f8"
      },
      "source": [
        "### **Encontrar la mejor división**\n",
        "---"
      ]
    },
    {
      "cell_type": "code",
      "execution_count": null,
      "id": "8860f7ea",
      "metadata": {
        "id": "8860f7ea"
      },
      "outputs": [],
      "source": [
        "def find_best_split(rows):\n",
        "    \"\"\"Encuentra la mejor pregunta para hacer iterando sobre cada función/valor y calculando \n",
        "    la ganancia de información.\n",
        "\n",
        "    Args:\n",
        "        rows (list): Dataset\n",
        "    Returns:\n",
        "        best_gain: Mejor ganancia de información\n",
        "        best_question: Mejor pregunta con mejor ganancia\n",
        "    \"\"\"\n",
        "    # Recuperamos la incertidumbre dini de los datos\n",
        "    current_uncertainty = gini(rows)\n",
        "    # Recuperamos el numero de columnas de la data\n",
        "    n_features = len(rows[0]) - 1 \n",
        "    \n",
        "    result = []\n",
        "    # Recorremos cada columna de la data\n",
        "    for col in range(n_features):\n",
        "\n",
        "        def best_question_and_gain(val, col = col, rows = rows):\n",
        "            \"\"\"Encuentra la mejor pregunta calculando la ganancia de información.\n",
        "\n",
        "            Args:\n",
        "                val (): Valor a evaluar\n",
        "                col (int): Valor de la columna\n",
        "                rows (int): Valor de la fila\n",
        "            Returns:\n",
        "                col: Columna en la cual se trabajo\n",
        "                val: Valor el cual se evaluo\n",
        "                gain: Ganancia obtenida\n",
        "            \"\"\"\n",
        "\n",
        "            # Creamos un clase Question con los valores de (col) y (val)\n",
        "            question = Question(col, val)\n",
        "            # Recuperamos los arreglos que cumplan o no la pregunta \n",
        "            true_rows, false_rows = partition(rows, question) \n",
        "\n",
        "            # Inicializamos la variable de la ganancia y la actualizaremos      \n",
        "            gain = 0\n",
        "            if len(true_rows) != 0 and len(false_rows) != 0:\n",
        "                gain = info_gain(true_rows, false_rows, current_uncertainty)\n",
        "            \n",
        "            return (col, val, gain)\n",
        "        \n",
        "        # Recorremos los valores de la data\n",
        "        values = unique_vals(rows,col)\n",
        "        # Convertimos la data en un RDD\n",
        "        palavrasRDD = sc.parallelize(values, os.cpu_count())\n",
        "        # Recorremos nuestro RDD con un map, y hallamos su ganancia y question con la funcion\n",
        "        pluralRDD = palavrasRDD.map(best_question_and_gain)\n",
        "        # Recuperamos el resultado en un array de tuplas\n",
        "        result += pluralRDD.collect()\n",
        "    \n",
        "    # Hallamos la maxima ganancia del resultado\n",
        "    max_value = sc.parallelize(result).sortBy(lambda x: x[2]).collect()\n",
        "    index = len(max_value) - 1\n",
        "    # Recuperamos la mejor ganancia\n",
        "    best_gain = max_value[index][2] \n",
        "    # Recuperamos los valores de la question, y creamos su clase\n",
        "    best_question = Question(max_value[index][0],max_value[index][1]) \n",
        "        \n",
        "\n",
        "    return best_gain, best_question"
      ]
    },
    {
      "cell_type": "markdown",
      "id": "91915798",
      "metadata": {
        "id": "91915798"
      },
      "source": [
        "### **Clase Hoja**\n",
        "---"
      ]
    },
    {
      "cell_type": "code",
      "execution_count": null,
      "id": "19d74f0b",
      "metadata": {
        "id": "19d74f0b"
      },
      "outputs": [],
      "source": [
        "class Leaf:\n",
        "    \"\"\"Un nodo Hoja clasifica los datos.\n",
        "\n",
        "     Esto contiene un diccionario de clase (por ejemplo, \"Apple\") -> número de veces\n",
        "     aparece en las filas de los datos de entrenamiento que llegan a esta hoja.\n",
        "    \"\"\"\n",
        "\n",
        "    def __init__(self, rows):\n",
        "        self.predictions = class_counts(rows)"
      ]
    },
    {
      "cell_type": "code",
      "execution_count": null,
      "id": "c6dbeabb",
      "metadata": {
        "id": "c6dbeabb"
      },
      "outputs": [],
      "source": [
        "def print_leaf(counts):\n",
        "    \"\"\"Una forma más agradable de imprimir las predicciones en una hoja.\"\"\"\n",
        "    total = sum(counts.values()) * 1.0\n",
        "    probs = {}\n",
        "    for lbl in counts.keys():\n",
        "        probs[lbl] = str(int(counts[lbl] / total * 100)) + \"%\"\n",
        "    return probs"
      ]
    },
    {
      "cell_type": "markdown",
      "id": "11d819df",
      "metadata": {
        "id": "11d819df"
      },
      "source": [
        "### **Clase nodo de decisión**\n",
        "---"
      ]
    },
    {
      "cell_type": "code",
      "execution_count": null,
      "id": "d2b83b00",
      "metadata": {
        "id": "d2b83b00"
      },
      "outputs": [],
      "source": [
        "class Decision_Node:\n",
        "    \"\"\"Un nodo de decisión hace una pregunta.\n",
        "\n",
        "     Esto contiene una referencia a la pregunta y a los dos nodos secundarios.\n",
        "    \"\"\"\n",
        "\n",
        "    def __init__(self,\n",
        "                 question,\n",
        "                 true_branch,\n",
        "                 false_branch):\n",
        "        self.question = question\n",
        "        self.true_branch = true_branch\n",
        "        self.false_branch = false_branch"
      ]
    },
    {
      "cell_type": "markdown",
      "id": "5a5af0c8",
      "metadata": {
        "id": "5a5af0c8"
      },
      "source": [
        "### **Construcción del árbol**\n",
        "---"
      ]
    },
    {
      "cell_type": "code",
      "execution_count": null,
      "id": "7453813d",
      "metadata": {
        "id": "7453813d"
      },
      "outputs": [],
      "source": [
        "def build_tree(rows):\n",
        "    \"\"\"Construcción del árbol.\n",
        "    \"\"\"\n",
        "    # Intente particionar el conjunto de datos en cada uno de los atributos únicos,\n",
        "    # calcular la ganancia de información, y devuelve la pregunta que produce la mayor ganancia.\n",
        "    \n",
        "    gain, question = find_best_split(rows)\n",
        "\n",
        "    # Caso base: no se obtiene más información\n",
        "    # Ya que no podemos hacer más preguntas,\n",
        "    # devolveremos una hoja.\n",
        "    if gain == 0:\n",
        "        return Leaf(rows)\n",
        "\n",
        "    # Si llegamos aquí, hemos encontrado una característica / valor útil\n",
        "    # para particionar.\n",
        "    true_rows, false_rows = partition(rows, question)\n",
        "\n",
        "    # Construir recursivamente la rama verdadera.\n",
        "    true_branch = build_tree(true_rows)\n",
        "\n",
        "    # Construir recursivamente la rama falsa.\n",
        "    false_branch = build_tree(false_rows)\n",
        "\n",
        "    # Devolver un nodo Pregunta.\n",
        "    # Esto registra la mejor característica/valor para preguntar en este punto,\n",
        "    # así como las ramas a seguir\n",
        "    # dependiendo de la respuesta.\n",
        "    return Decision_Node(question, true_branch, false_branch)"
      ]
    },
    {
      "cell_type": "markdown",
      "id": "405931a8",
      "metadata": {
        "id": "405931a8"
      },
      "source": [
        "### **Impresión del Árbol**\n",
        "---"
      ]
    },
    {
      "cell_type": "code",
      "execution_count": null,
      "id": "e31e0cd2",
      "metadata": {
        "id": "e31e0cd2"
      },
      "outputs": [],
      "source": [
        "def print_tree(node, spacing=\"\"):\n",
        "    \"\"\"La función de impresión de árboles más elegante del mundo.\"\"\"\n",
        "\n",
        "    # Caso base: hemos llegado a una hoja\n",
        "    if isinstance(node, Leaf):\n",
        "        print (spacing + \"Prediccion\", node.predictions)\n",
        "        return\n",
        "\n",
        "    # Imprimir la pregunta en este nodo\n",
        "    print (spacing + str(node.question))\n",
        "\n",
        "    # Recursión en la rama verdadera\n",
        "    print (spacing + '--> Verdadero:')\n",
        "    print_tree(node.true_branch, spacing + \"  \")\n",
        "\n",
        "    # Recursión en la rama falsa\n",
        "    print (spacing + '--> Falso:')\n",
        "    print_tree(node.false_branch, spacing + \"  \")"
      ]
    },
    {
      "cell_type": "markdown",
      "id": "52951911",
      "metadata": {
        "id": "52951911"
      },
      "source": [
        "### **Clasificación**\n",
        "---"
      ]
    },
    {
      "cell_type": "code",
      "execution_count": null,
      "id": "4bba37da",
      "metadata": {
        "id": "4bba37da"
      },
      "outputs": [],
      "source": [
        "def classify(row, node):\n",
        "    # Caso base: hemos llegado a una hoja\n",
        "    if isinstance(node, Leaf):\n",
        "        return node.predictions\n",
        "\n",
        "    # Decide si seguir la rama verdadera o la rama falsa.\n",
        "    # Comparar la característica/valor almacenado en el nodo,\n",
        "    # al ejemplo que estamos considerando.\n",
        "    if node.question.match(row):\n",
        "        return classify(row, node.true_branch)\n",
        "    else:\n",
        "        return classify(row, node.false_branch)"
      ]
    },
    {
      "cell_type": "markdown",
      "id": "f0e76764",
      "metadata": {
        "id": "f0e76764"
      },
      "source": [
        "### **Ejemplo 1**\n",
        "---"
      ]
    },
    {
      "cell_type": "code",
      "execution_count": null,
      "id": "688ec2a3",
      "metadata": {
        "id": "688ec2a3"
      },
      "outputs": [],
      "source": [
        "# Etiquetas de columna.\n",
        "# Estos se usan solo para imprimir el árbol.\n",
        "header = [\"color\", \"diametro\", \"etiqueta\"]"
      ]
    },
    {
      "cell_type": "code",
      "execution_count": null,
      "id": "8235a961",
      "metadata": {
        "id": "8235a961"
      },
      "outputs": [],
      "source": [
        "training_data = [\n",
        "    ['Verde', 3, 'Manzana'],\n",
        "    ['Amarillo', 3, 'Manzana'],\n",
        "    ['Rojo', 1, 'Uva'],\n",
        "    ['Rojo', 1, 'Uva'],\n",
        "    ['Amarillo', 3, 'Limon'],\n",
        "]"
      ]
    },
    {
      "cell_type": "code",
      "execution_count": null,
      "id": "0e6366d2",
      "metadata": {
        "id": "0e6366d2"
      },
      "outputs": [],
      "source": [
        "my_tree = build_tree(training_data)"
      ]
    },
    {
      "cell_type": "code",
      "execution_count": null,
      "id": "58a49a88",
      "metadata": {
        "colab": {
          "base_uri": "https://localhost:8080/"
        },
        "id": "58a49a88",
        "outputId": "16606bf6-f4b6-4f90-98f9-03acf2cd0ae0"
      },
      "outputs": [
        {
          "output_type": "stream",
          "name": "stdout",
          "text": [
            "Es diametro >= 3?\n",
            "--> Verdadero:\n",
            "  Es color == Amarillo?\n",
            "  --> Verdadero:\n",
            "    Prediccion {'Manzana': 1, 'Limon': 1}\n",
            "  --> Falso:\n",
            "    Prediccion {'Manzana': 1}\n",
            "--> Falso:\n",
            "  Prediccion {'Uva': 2}\n"
          ]
        }
      ],
      "source": [
        "print_tree(my_tree)"
      ]
    },
    {
      "cell_type": "markdown",
      "source": [
        "\n",
        "\n",
        "<center/>\n",
        "<a href=\"https://ibb.co/4jgkQ8v\"><img src=\"https://i.ibb.co/19JcSry/Diagrama-en-blanco-P-gina-1-5.png\" alt=\"Diagrama-en-blanco-P-gina-1-5\" border=\"0\" width=500px></a>\n",
        "</center>"
      ],
      "metadata": {
        "id": "Jr6F1lJhq1k9"
      },
      "id": "Jr6F1lJhq1k9"
    },
    {
      "cell_type": "markdown",
      "id": "2fa34300",
      "metadata": {
        "id": "2fa34300"
      },
      "source": [
        "### **Ejemplo 1 - Test**\n",
        "---"
      ]
    },
    {
      "cell_type": "code",
      "execution_count": null,
      "id": "567ac1dc",
      "metadata": {
        "id": "567ac1dc"
      },
      "outputs": [],
      "source": [
        "testing_data = [\n",
        "    ['Verde', 3, 'Manzana'],\n",
        "    ['Amarillo', 3, 'Manzana'],\n",
        "    ['Rojo', 1, 'Uva'],\n",
        "    ['Rojo', 1, 'Uva'],\n",
        "    ['Amarillo', 3, 'Limon'],\n",
        "]"
      ]
    },
    {
      "cell_type": "code",
      "execution_count": null,
      "id": "9673f9f9",
      "metadata": {
        "colab": {
          "base_uri": "https://localhost:8080/"
        },
        "id": "9673f9f9",
        "outputId": "6c508dbc-4109-455a-9654-ea740035cc83"
      },
      "outputs": [
        {
          "output_type": "stream",
          "name": "stdout",
          "text": [
            "Actual: Manzana. Prediccion: {'Manzana': '100%'}\n",
            "Actual: Manzana. Prediccion: {'Manzana': '50%', 'Limon': '50%'}\n",
            "Actual: Uva. Prediccion: {'Uva': '100%'}\n",
            "Actual: Uva. Prediccion: {'Uva': '100%'}\n",
            "Actual: Limon. Prediccion: {'Manzana': '50%', 'Limon': '50%'}\n"
          ]
        }
      ],
      "source": [
        "for row in testing_data:\n",
        "    print (\"Actual: %s. Prediccion: %s\" %\n",
        "           (row[-1], print_leaf(classify(row, my_tree))))"
      ]
    },
    {
      "cell_type": "markdown",
      "id": "64e4bf59",
      "metadata": {
        "id": "64e4bf59"
      },
      "source": [
        "### **Ejemplo 2**\n",
        "---"
      ]
    },
    {
      "cell_type": "code",
      "execution_count": null,
      "id": "740d7666",
      "metadata": {
        "colab": {
          "base_uri": "https://localhost:8080/"
        },
        "id": "740d7666",
        "outputId": "e0157474-2b07-42ee-8299-c082e0b6ad6f"
      },
      "outputs": [
        {
          "output_type": "stream",
          "name": "stdout",
          "text": [
            "['sepal.length', 'sepal.width', 'petal.length', 'petal.width', 'variety']\n"
          ]
        }
      ],
      "source": [
        "import pandas as pd\n",
        "df = pd.read_csv(\"iris.csv\")\n",
        "header = list(df.columns)\n",
        "FlowerSet=df.to_numpy()\n",
        "print(header)\n"
      ]
    },
    {
      "cell_type": "code",
      "execution_count": null,
      "id": "50adf546",
      "metadata": {
        "id": "50adf546"
      },
      "outputs": [],
      "source": [
        "my_tree2 = build_tree(FlowerSet)"
      ]
    },
    {
      "cell_type": "code",
      "execution_count": null,
      "id": "15c9ec6d",
      "metadata": {
        "colab": {
          "base_uri": "https://localhost:8080/"
        },
        "id": "15c9ec6d",
        "outputId": "0dfbfc49-8eb0-465f-b003-aca82e59a787"
      },
      "outputs": [
        {
          "output_type": "stream",
          "name": "stdout",
          "text": [
            "Es petal.width >= 1.0?\n",
            "--> Verdadero:\n",
            "  Es petal.width >= 1.8?\n",
            "  --> Verdadero:\n",
            "    Es petal.length >= 4.9?\n",
            "    --> Verdadero:\n",
            "      Prediccion {'Virginica': 43}\n",
            "    --> Falso:\n",
            "      Es sepal.width >= 3.2?\n",
            "      --> Verdadero:\n",
            "        Prediccion {'Versicolor': 1}\n",
            "      --> Falso:\n",
            "        Prediccion {'Virginica': 2}\n",
            "  --> Falso:\n",
            "    Es petal.length >= 5.0?\n",
            "    --> Verdadero:\n",
            "      Es petal.width >= 1.6?\n",
            "      --> Verdadero:\n",
            "        Es petal.length >= 5.8?\n",
            "        --> Verdadero:\n",
            "          Prediccion {'Virginica': 1}\n",
            "        --> Falso:\n",
            "          Prediccion {'Versicolor': 2}\n",
            "      --> Falso:\n",
            "        Prediccion {'Virginica': 3}\n",
            "    --> Falso:\n",
            "      Es petal.width >= 1.7?\n",
            "      --> Verdadero:\n",
            "        Prediccion {'Virginica': 1}\n",
            "      --> Falso:\n",
            "        Prediccion {'Versicolor': 47}\n",
            "--> Falso:\n",
            "  Prediccion {'Setosa': 50}\n"
          ]
        }
      ],
      "source": [
        "print_tree(my_tree2)"
      ]
    },
    {
      "cell_type": "code",
      "execution_count": null,
      "id": "9d803ce7",
      "metadata": {
        "id": "9d803ce7",
        "outputId": "640fd781-e74b-42e1-bc16-be2a7e04e3c0",
        "colab": {
          "base_uri": "https://localhost:8080/"
        }
      },
      "outputs": [
        {
          "output_type": "stream",
          "name": "stdout",
          "text": [
            "Actual: Setosa. Prediccion: {'Setosa': '100%'}\n",
            "Actual: Setosa. Prediccion: {'Setosa': '100%'}\n",
            "Actual: Setosa. Prediccion: {'Setosa': '100%'}\n",
            "Actual: Setosa. Prediccion: {'Setosa': '100%'}\n",
            "Actual: Setosa. Prediccion: {'Setosa': '100%'}\n",
            "Actual: Setosa. Prediccion: {'Setosa': '100%'}\n",
            "Actual: Setosa. Prediccion: {'Setosa': '100%'}\n",
            "Actual: Setosa. Prediccion: {'Setosa': '100%'}\n",
            "Actual: Setosa. Prediccion: {'Setosa': '100%'}\n",
            "Actual: Setosa. Prediccion: {'Setosa': '100%'}\n",
            "Actual: Setosa. Prediccion: {'Setosa': '100%'}\n",
            "Actual: Setosa. Prediccion: {'Setosa': '100%'}\n",
            "Actual: Setosa. Prediccion: {'Setosa': '100%'}\n",
            "Actual: Setosa. Prediccion: {'Setosa': '100%'}\n",
            "Actual: Setosa. Prediccion: {'Setosa': '100%'}\n",
            "Actual: Setosa. Prediccion: {'Setosa': '100%'}\n",
            "Actual: Setosa. Prediccion: {'Setosa': '100%'}\n",
            "Actual: Setosa. Prediccion: {'Setosa': '100%'}\n",
            "Actual: Setosa. Prediccion: {'Setosa': '100%'}\n",
            "Actual: Setosa. Prediccion: {'Setosa': '100%'}\n",
            "Actual: Setosa. Prediccion: {'Setosa': '100%'}\n",
            "Actual: Setosa. Prediccion: {'Setosa': '100%'}\n",
            "Actual: Setosa. Prediccion: {'Setosa': '100%'}\n",
            "Actual: Setosa. Prediccion: {'Setosa': '100%'}\n",
            "Actual: Setosa. Prediccion: {'Setosa': '100%'}\n",
            "Actual: Setosa. Prediccion: {'Setosa': '100%'}\n",
            "Actual: Setosa. Prediccion: {'Setosa': '100%'}\n",
            "Actual: Setosa. Prediccion: {'Setosa': '100%'}\n",
            "Actual: Setosa. Prediccion: {'Setosa': '100%'}\n",
            "Actual: Setosa. Prediccion: {'Setosa': '100%'}\n",
            "Actual: Setosa. Prediccion: {'Setosa': '100%'}\n",
            "Actual: Setosa. Prediccion: {'Setosa': '100%'}\n",
            "Actual: Setosa. Prediccion: {'Setosa': '100%'}\n",
            "Actual: Setosa. Prediccion: {'Setosa': '100%'}\n",
            "Actual: Setosa. Prediccion: {'Setosa': '100%'}\n",
            "Actual: Setosa. Prediccion: {'Setosa': '100%'}\n",
            "Actual: Setosa. Prediccion: {'Setosa': '100%'}\n",
            "Actual: Setosa. Prediccion: {'Setosa': '100%'}\n",
            "Actual: Setosa. Prediccion: {'Setosa': '100%'}\n",
            "Actual: Setosa. Prediccion: {'Setosa': '100%'}\n",
            "Actual: Setosa. Prediccion: {'Setosa': '100%'}\n",
            "Actual: Setosa. Prediccion: {'Setosa': '100%'}\n",
            "Actual: Setosa. Prediccion: {'Setosa': '100%'}\n",
            "Actual: Setosa. Prediccion: {'Setosa': '100%'}\n",
            "Actual: Setosa. Prediccion: {'Setosa': '100%'}\n",
            "Actual: Setosa. Prediccion: {'Setosa': '100%'}\n",
            "Actual: Setosa. Prediccion: {'Setosa': '100%'}\n",
            "Actual: Setosa. Prediccion: {'Setosa': '100%'}\n",
            "Actual: Setosa. Prediccion: {'Setosa': '100%'}\n",
            "Actual: Setosa. Prediccion: {'Setosa': '100%'}\n",
            "Actual: Versicolor. Prediccion: {'Versicolor': '100%'}\n",
            "Actual: Versicolor. Prediccion: {'Versicolor': '100%'}\n",
            "Actual: Versicolor. Prediccion: {'Versicolor': '100%'}\n",
            "Actual: Versicolor. Prediccion: {'Versicolor': '100%'}\n",
            "Actual: Versicolor. Prediccion: {'Versicolor': '100%'}\n",
            "Actual: Versicolor. Prediccion: {'Versicolor': '100%'}\n",
            "Actual: Versicolor. Prediccion: {'Versicolor': '100%'}\n",
            "Actual: Versicolor. Prediccion: {'Versicolor': '100%'}\n",
            "Actual: Versicolor. Prediccion: {'Versicolor': '100%'}\n",
            "Actual: Versicolor. Prediccion: {'Versicolor': '100%'}\n",
            "Actual: Versicolor. Prediccion: {'Versicolor': '100%'}\n",
            "Actual: Versicolor. Prediccion: {'Versicolor': '100%'}\n",
            "Actual: Versicolor. Prediccion: {'Versicolor': '100%'}\n",
            "Actual: Versicolor. Prediccion: {'Versicolor': '100%'}\n",
            "Actual: Versicolor. Prediccion: {'Versicolor': '100%'}\n",
            "Actual: Versicolor. Prediccion: {'Versicolor': '100%'}\n",
            "Actual: Versicolor. Prediccion: {'Versicolor': '100%'}\n",
            "Actual: Versicolor. Prediccion: {'Versicolor': '100%'}\n",
            "Actual: Versicolor. Prediccion: {'Versicolor': '100%'}\n",
            "Actual: Versicolor. Prediccion: {'Versicolor': '100%'}\n",
            "Actual: Versicolor. Prediccion: {'Versicolor': '100%'}\n",
            "Actual: Versicolor. Prediccion: {'Versicolor': '100%'}\n",
            "Actual: Versicolor. Prediccion: {'Versicolor': '100%'}\n",
            "Actual: Versicolor. Prediccion: {'Versicolor': '100%'}\n",
            "Actual: Versicolor. Prediccion: {'Versicolor': '100%'}\n",
            "Actual: Versicolor. Prediccion: {'Versicolor': '100%'}\n",
            "Actual: Versicolor. Prediccion: {'Versicolor': '100%'}\n",
            "Actual: Versicolor. Prediccion: {'Versicolor': '100%'}\n",
            "Actual: Versicolor. Prediccion: {'Versicolor': '100%'}\n",
            "Actual: Versicolor. Prediccion: {'Versicolor': '100%'}\n",
            "Actual: Versicolor. Prediccion: {'Versicolor': '100%'}\n",
            "Actual: Versicolor. Prediccion: {'Versicolor': '100%'}\n",
            "Actual: Versicolor. Prediccion: {'Versicolor': '100%'}\n",
            "Actual: Versicolor. Prediccion: {'Versicolor': '100%'}\n",
            "Actual: Versicolor. Prediccion: {'Versicolor': '100%'}\n",
            "Actual: Versicolor. Prediccion: {'Versicolor': '100%'}\n",
            "Actual: Versicolor. Prediccion: {'Versicolor': '100%'}\n",
            "Actual: Versicolor. Prediccion: {'Versicolor': '100%'}\n",
            "Actual: Versicolor. Prediccion: {'Versicolor': '100%'}\n",
            "Actual: Versicolor. Prediccion: {'Versicolor': '100%'}\n",
            "Actual: Versicolor. Prediccion: {'Versicolor': '100%'}\n",
            "Actual: Versicolor. Prediccion: {'Versicolor': '100%'}\n",
            "Actual: Versicolor. Prediccion: {'Versicolor': '100%'}\n",
            "Actual: Versicolor. Prediccion: {'Versicolor': '100%'}\n",
            "Actual: Versicolor. Prediccion: {'Versicolor': '100%'}\n",
            "Actual: Versicolor. Prediccion: {'Versicolor': '100%'}\n",
            "Actual: Versicolor. Prediccion: {'Versicolor': '100%'}\n",
            "Actual: Versicolor. Prediccion: {'Versicolor': '100%'}\n",
            "Actual: Versicolor. Prediccion: {'Versicolor': '100%'}\n",
            "Actual: Versicolor. Prediccion: {'Versicolor': '100%'}\n",
            "Actual: Virginica. Prediccion: {'Virginica': '100%'}\n",
            "Actual: Virginica. Prediccion: {'Virginica': '100%'}\n",
            "Actual: Virginica. Prediccion: {'Virginica': '100%'}\n",
            "Actual: Virginica. Prediccion: {'Virginica': '100%'}\n",
            "Actual: Virginica. Prediccion: {'Virginica': '100%'}\n",
            "Actual: Virginica. Prediccion: {'Virginica': '100%'}\n",
            "Actual: Virginica. Prediccion: {'Virginica': '100%'}\n",
            "Actual: Virginica. Prediccion: {'Virginica': '100%'}\n",
            "Actual: Virginica. Prediccion: {'Virginica': '100%'}\n",
            "Actual: Virginica. Prediccion: {'Virginica': '100%'}\n",
            "Actual: Virginica. Prediccion: {'Virginica': '100%'}\n",
            "Actual: Virginica. Prediccion: {'Virginica': '100%'}\n",
            "Actual: Virginica. Prediccion: {'Virginica': '100%'}\n",
            "Actual: Virginica. Prediccion: {'Virginica': '100%'}\n",
            "Actual: Virginica. Prediccion: {'Virginica': '100%'}\n",
            "Actual: Virginica. Prediccion: {'Virginica': '100%'}\n",
            "Actual: Virginica. Prediccion: {'Virginica': '100%'}\n",
            "Actual: Virginica. Prediccion: {'Virginica': '100%'}\n",
            "Actual: Virginica. Prediccion: {'Virginica': '100%'}\n",
            "Actual: Virginica. Prediccion: {'Virginica': '100%'}\n",
            "Actual: Virginica. Prediccion: {'Virginica': '100%'}\n",
            "Actual: Virginica. Prediccion: {'Virginica': '100%'}\n",
            "Actual: Virginica. Prediccion: {'Virginica': '100%'}\n",
            "Actual: Virginica. Prediccion: {'Virginica': '100%'}\n",
            "Actual: Virginica. Prediccion: {'Virginica': '100%'}\n",
            "Actual: Virginica. Prediccion: {'Virginica': '100%'}\n",
            "Actual: Virginica. Prediccion: {'Virginica': '100%'}\n",
            "Actual: Virginica. Prediccion: {'Virginica': '100%'}\n",
            "Actual: Virginica. Prediccion: {'Virginica': '100%'}\n",
            "Actual: Virginica. Prediccion: {'Virginica': '100%'}\n",
            "Actual: Virginica. Prediccion: {'Virginica': '100%'}\n",
            "Actual: Virginica. Prediccion: {'Virginica': '100%'}\n",
            "Actual: Virginica. Prediccion: {'Virginica': '100%'}\n",
            "Actual: Virginica. Prediccion: {'Virginica': '100%'}\n",
            "Actual: Virginica. Prediccion: {'Virginica': '100%'}\n",
            "Actual: Virginica. Prediccion: {'Virginica': '100%'}\n",
            "Actual: Virginica. Prediccion: {'Virginica': '100%'}\n",
            "Actual: Virginica. Prediccion: {'Virginica': '100%'}\n",
            "Actual: Virginica. Prediccion: {'Virginica': '100%'}\n",
            "Actual: Virginica. Prediccion: {'Virginica': '100%'}\n",
            "Actual: Virginica. Prediccion: {'Virginica': '100%'}\n",
            "Actual: Virginica. Prediccion: {'Virginica': '100%'}\n",
            "Actual: Virginica. Prediccion: {'Virginica': '100%'}\n",
            "Actual: Virginica. Prediccion: {'Virginica': '100%'}\n",
            "Actual: Virginica. Prediccion: {'Virginica': '100%'}\n",
            "Actual: Virginica. Prediccion: {'Virginica': '100%'}\n",
            "Actual: Virginica. Prediccion: {'Virginica': '100%'}\n",
            "Actual: Virginica. Prediccion: {'Virginica': '100%'}\n",
            "Actual: Virginica. Prediccion: {'Virginica': '100%'}\n",
            "Actual: Virginica. Prediccion: {'Virginica': '100%'}\n"
          ]
        }
      ],
      "source": [
        "for row in FlowerSet:\n",
        "    print (\"Actual: %s. Prediccion: %s\" %\n",
        "           (row[-1], print_leaf(classify(row, my_tree2))))"
      ]
    },
    {
      "cell_type": "markdown",
      "id": "5d0325b0",
      "metadata": {
        "id": "5d0325b0"
      },
      "source": [
        "### **Predicción**\n",
        "---"
      ]
    },
    {
      "cell_type": "code",
      "execution_count": null,
      "id": "4720c68e",
      "metadata": {
        "id": "4720c68e",
        "outputId": "a6d6e4d1-d0c2-4d14-f051-da437e9b8970",
        "colab": {
          "base_uri": "https://localhost:8080/"
        }
      },
      "outputs": [
        {
          "output_type": "execute_result",
          "data": {
            "text/plain": [
              "{'Setosa': '100%'}"
            ]
          },
          "metadata": {},
          "execution_count": 28
        }
      ],
      "source": [
        "print_leaf(classify([5.1,3.5,1.4,0.2,0], my_tree2))"
      ]
    }
  ],
  "metadata": {
    "kernelspec": {
      "display_name": "Python 3 (ipykernel)",
      "language": "python",
      "name": "python3"
    },
    "language_info": {
      "codemirror_mode": {
        "name": "ipython",
        "version": 3
      },
      "file_extension": ".py",
      "mimetype": "text/x-python",
      "name": "python",
      "nbconvert_exporter": "python",
      "pygments_lexer": "ipython3",
      "version": "3.8.10"
    },
    "colab": {
      "name": "ProyectoFinalMineria_ArbolDecision.ipynb",
      "provenance": [],
      "collapsed_sections": []
    }
  },
  "nbformat": 4,
  "nbformat_minor": 5
}